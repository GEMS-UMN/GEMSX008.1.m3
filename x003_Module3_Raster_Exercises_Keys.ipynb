{
 "cells": [
  {
   "cell_type": "markdown",
   "id": "f609242d-0ff1-4db9-9342-e1c372f6cb5a",
   "metadata": {},
   "source": [
    "# **Module 3: Raster Data in Python**\n",
    "## Prerequisites\n",
    "### Data\n",
    "- in this example, we will create some raster data to imitate real-world data. We will use `data-module-3` as a workspace.\n",
    "- `ndvi_summer.tif` and `ndvi_winter.tif` - Normalized Difference Vegetation Index (NDVI) for a study area in Kansas. NDVI is an indicator of vegetation health.\n",
    "- `ag_fields.shp` - selected agricultural fields for a study area in Kansas.\n",
    "### Software\n",
    "To execute the code you will need a `conda` environment for Python with the packages imported below."
   ]
  },
  {
   "cell_type": "code",
   "execution_count": null,
   "id": "2335b450-3cac-49c4-80c1-7d174a6b4c25",
   "metadata": {
    "tags": []
   },
   "outputs": [],
   "source": [
    "import numpy as np\n",
    "from matplotlib import pyplot as plt\n",
    "from rasterio.transform import Affine\n",
    "import rasterio\n",
    "from shapely.geometry.polygon import Polygon\n",
    "import geopandas as gpd\n",
    "import rasterio.mask\n",
    "from rasterstats import zonal_stats\n",
    "from rasterio import features\n",
    "import xarray as xr\n",
    "from xrspatial.convolution import circle_kernel, custom_kernel\n",
    "from xrspatial.focal import focal_stats\n",
    "from xrspatial.zonal import stats\n",
    "from rasterio.plot import plotting_extent\n",
    "from rasterio.enums import Resampling"
   ]
  },
  {
   "cell_type": "markdown",
   "id": "999c7a71-d84c-4224-8359-e0d8bf58a56c",
   "metadata": {},
   "source": [
    "## **Exercises**\n",
    "Your expercises will draw on datasets from the Spatial Production Allocation Model (SPAM) and Minnesota Geospatial Commons, which have been downloaded, cleaned, transformed, and saved to the directory `./data-module-3/` for this workshop.\n",
    "### Data\n",
    "- `spam_H_MAIZ_A_mn.tif` (crop harvested area), `spam_P_MAIZ_A_mn.tif` (crop production) - agricultural indicators at 10x10km grid-cell resolution from MAPSPAM (Spatial Production Allocation Model) data center  https://www.mapspam.info/data/\n",
    "- `gw_provinces_extra.shp` - Groundwater Provinces of Minnesota derived from  https://gisdata.mn.gov/dataset/geos-groundwater-provinces-mn"
   ]
  },
  {
   "cell_type": "markdown",
   "id": "451ed3a4-3c0f-4234-9a4a-b8a52eab68d2",
   "metadata": {},
   "source": [
    "**Question 1. Open raster files `spam_H_MAIZ_A_mn.tif` and `spam_P_MAIZ_A_mn.tif` and check their properties: Coordinate Reference System, extent, resolution, NoData, and transform .** "
   ]
  },
  {
   "cell_type": "code",
   "execution_count": null,
   "id": "b6cc7c5b-994a-4b60-954f-a301d86e615e",
   "metadata": {},
   "outputs": [],
   "source": [
    "spam_h = rasterio.open(\"./data-module-3/spam_H_MAIZ_A_mn.tif\")\n",
    "print (\"Dataset CRS is {}\".format(spam_h.crs))\n",
    "print (\"Dataset extent is {}\".format(spam_h.bounds))\n",
    "print (\"Dataset resolution is {}\".format(spam_h.res))\n",
    "print (\"Dataset NoData is {}\".format(spam_h.nodata))\n",
    "print (\"Dataset tranform is\")\n",
    "spam_h.transform"
   ]
  },
  {
   "cell_type": "code",
   "execution_count": null,
   "id": "b9b4023b-5992-4ab0-84a3-834ab16ccd6c",
   "metadata": {},
   "outputs": [],
   "source": [
    "spam_p = rasterio.open(\"./data-module-3/spam_P_MAIZ_A_mn.tif\")\n",
    "print (\"Dataset CRS is {}\".format(spam_p.crs))\n",
    "print (\"Dataset extent is {}\".format(spam_p.bounds))\n",
    "print (\"Dataset resolution is {}\".format(spam_p.res))\n",
    "print (\"Dataset NoData is {}\".format(spam_p.nodata))\n",
    "print (\"Dataset tranform is\")\n",
    "spam_p.transform"
   ]
  },
  {
   "cell_type": "markdown",
   "id": "b420fe6a-bd28-4ae9-9b1b-4c416d6e6ca2",
   "metadata": {},
   "source": [
    "**Question 2. Read datasets from the previous question as arrays, reset NoData values, and plot them.**"
   ]
  },
  {
   "cell_type": "code",
   "execution_count": null,
   "id": "cd4b3472-2246-423b-a77d-d79d907d946b",
   "metadata": {},
   "outputs": [],
   "source": [
    "spam_h_array = spam_h.read(1)\n",
    "spam_h_array[spam_h_array==spam_h.nodata]=np.nan\n",
    "spam_p_array = spam_p.read(1)\n",
    "spam_p_array[spam_p_array==spam_p.nodata]=np.nan"
   ]
  },
  {
   "cell_type": "code",
   "execution_count": null,
   "id": "f2995705-659c-4157-be3c-3a755a8c086d",
   "metadata": {},
   "outputs": [],
   "source": [
    "fig, axs = plt.subplots(1,2, figsize=(12,4))\n",
    "plot0 = axs[0].imshow(spam_h_array, cmap=\"BrBG\")\n",
    "fig.colorbar(plot0, ax=axs[0])\n",
    "axs[0].set_title(\"Harvested Area\")\n",
    "plot1 = axs[1].imshow(spam_p_array, cmap=\"BrBG\")\n",
    "fig.colorbar(plot1, ax=axs[1])\n",
    "axs[1].set_title(\"Production\")\n",
    "plt.tight_layout()"
   ]
  },
  {
   "cell_type": "markdown",
   "id": "6414c8aa-1e74-4a60-94b9-7bf9860b7e6d",
   "metadata": {},
   "source": [
    "**Question 3. Calculate a ratio of Production raster to Harvested Area to create an array Yield. Find statistics: maximum Yield and its standard deviation.**"
   ]
  },
  {
   "cell_type": "code",
   "execution_count": null,
   "id": "cfed1bf5-637f-45be-ab2e-b84890dc7f88",
   "metadata": {},
   "outputs": [],
   "source": [
    "#np.seterr(invalid=\"ignore\")\n",
    "spam_y_array = spam_p_array/spam_h_array\n",
    "print (\"Maximum Yield is {}\".format(np.nanmax(spam_y_array)))\n",
    "print (\"Standard Deviation of Yield is {}\".format(np.nanstd(spam_y_array)))"
   ]
  },
  {
   "cell_type": "markdown",
   "id": "3aae4827-3cf5-485d-bf50-4bdbde30dc72",
   "metadata": {},
   "source": [
    "**Question 4. Reclassify Yield array by using 3 categories (make your own breaks). Plot both for comparison.**"
   ]
  },
  {
   "cell_type": "code",
   "execution_count": null,
   "id": "58f0dbcd-6fd2-45ed-9904-3465c98558f1",
   "metadata": {},
   "outputs": [],
   "source": [
    "reclassified = spam_y_array.copy()\n",
    "reclassified[(reclassified > 0) & (reclassified <= 8)] = 1\n",
    "reclassified[(reclassified > 8) & (reclassified <= 10)] = 2\n",
    "reclassified[(reclassified > 10)] = 3"
   ]
  },
  {
   "cell_type": "code",
   "execution_count": null,
   "id": "935f0f91-dc2e-42c1-8520-c9cb2416e234",
   "metadata": {},
   "outputs": [],
   "source": [
    "fig, axs = plt.subplots(1,2,  figsize=(12,4))\n",
    "plot0 = axs[0].imshow(spam_y_array, cmap=\"RdYlGn\")\n",
    "fig.colorbar(plot0, ax=axs[0])\n",
    "axs[0].set_title(\"Yield original\")\n",
    "plot1 = axs[1].imshow(reclassified, cmap=\"RdYlGn\")\n",
    "fig.colorbar(plot1, ax=axs[1])\n",
    "axs[1].set_title(\"Yield reclassified\")\n",
    "plt.tight_layout()"
   ]
  },
  {
   "cell_type": "markdown",
   "id": "183e29aa-d04f-49e7-a45f-f057271ec253",
   "metadata": {},
   "source": [
    "**Question 5: Resample Production raster to a coarser resolution. Plot both for comparison**"
   ]
  },
  {
   "cell_type": "code",
   "execution_count": null,
   "id": "bce2a373-042d-4229-82d0-67d2eef62579",
   "metadata": {},
   "outputs": [],
   "source": [
    "scale_factor = 1/2\n",
    "with rasterio.open(\"./data-module-3/spam_P_MAIZ_A_mn.tif\") as dataset:\n",
    "    data = dataset.read(\n",
    "        out_shape=(\n",
    "            dataset.count,\n",
    "            int(dataset.height * scale_factor),\n",
    "            int(dataset.width * scale_factor)\n",
    "        ),\n",
    "        resampling=Resampling.nearest\n",
    "    )\n",
    "    transform = dataset.transform * dataset.transform.scale(\n",
    "        (dataset.width / data.shape[-1]),\n",
    "        (dataset.height / data.shape[-2])\n",
    "    )\n",
    "aggregated = data[0]\n",
    "aggregated[aggregated==dataset.nodata]=np.nan"
   ]
  },
  {
   "cell_type": "code",
   "execution_count": null,
   "id": "ec12e547-0e8f-46e6-8e2a-f64dfc219eaa",
   "metadata": {},
   "outputs": [],
   "source": [
    "fig, axs = plt.subplots(1,2,  figsize=(12,4))\n",
    "plot0 = axs[0].imshow(spam_p_array, cmap=\"RdYlGn\")\n",
    "fig.colorbar(plot0, ax=axs[0])\n",
    "axs[0].set_title(\"Production original\")\n",
    "plot1 = axs[1].imshow(aggregated, cmap=\"RdYlGn\")\n",
    "fig.colorbar(plot1, ax=axs[1])\n",
    "axs[1].set_title(\"Production aggregated\")\n",
    "plt.tight_layout()"
   ]
  },
  {
   "cell_type": "markdown",
   "id": "f89d3a05-f52e-4abc-8a51-243b345395f7",
   "metadata": {},
   "source": [
    "**Question 6. Use focal statistics function on Yield array to create an array which shows the mean yield within 3x3 neighborhood grid cells. Then create a raster map that displays the difference between each grid cell's Yield and \"mean\" Yield of its neighborhood. Plot the original raster, raster with focal statistics applied, and their difference raster as 3 subplots on the same figure.**"
   ]
  },
  {
   "cell_type": "code",
   "execution_count": null,
   "id": "8e4e4407-aff3-4184-bdb9-617a9c0a374b",
   "metadata": {},
   "outputs": [],
   "source": [
    "spam_y_xr =  xr.DataArray(spam_y_array, dims=[\"y\", \"x\"], name=\"yield\")\n",
    "kernel = np.ones([3,3])\n",
    "spam_y_xr_focal = focal_stats(spam_y_xr, kernel, stats_funcs=[\"mean\"])[0]\n",
    "difference  = spam_y_xr - spam_y_xr_focal"
   ]
  },
  {
   "cell_type": "code",
   "execution_count": null,
   "id": "510c23e4-ca1e-4440-ade2-5a2a0920e4a4",
   "metadata": {},
   "outputs": [],
   "source": [
    "fig, axs = plt.subplots(1,3, figsize=(15,4))\n",
    "plot0 = axs[0].imshow(spam_y_xr, cmap=\"BrBG\")\n",
    "fig.colorbar(plot0, ax=axs[0])\n",
    "axs[0].set_title(\"Yield original\")\n",
    "plot1 = axs[1].imshow(spam_y_xr_focal, cmap=\"BrBG\") \n",
    "fig.colorbar(plot1, ax=axs[1])\n",
    "axs[1].set_title(\"Yield Mean focal\")\n",
    "plot2 = axs[2].imshow(difference, cmap=\"coolwarm\") \n",
    "fig.colorbar(plot2, ax=axs[2])\n",
    "axs[2].set_title(\"Difference between original and focal\")\n",
    "plt.tight_layout()"
   ]
  },
  {
   "cell_type": "markdown",
   "id": "17679520-f4be-428e-8789-ee414ae00d10",
   "metadata": {},
   "source": [
    "**Question 7. Open `gw_provinces_extra.shp`. Change the CRS of the polygon data to the CRS of the Production raster dataset. Select polygons with `PROVINCE` 1, 2, and 3 for further analysis.** "
   ]
  },
  {
   "cell_type": "code",
   "execution_count": null,
   "id": "91dea579-bc04-421a-bb69-22c96c1e030b",
   "metadata": {},
   "outputs": [],
   "source": [
    "gw_provinces_gdf = gpd.read_file(\"./data-module-3/gw_provinces_extra.shp\")\n",
    "print (\"Coordinate system is {}\".format(gw_provinces_gdf.crs))\n",
    "gw_provinces_gdf = gw_provinces_gdf.to_crs(spam_p.crs)\n",
    "subset = gw_provinces_gdf[(gw_provinces_gdf.PROVINCE == \"1\")|(gw_provinces_gdf.PROVINCE == \"2\")|(gw_provinces_gdf.PROVINCE == \"3\")]"
   ]
  },
  {
   "cell_type": "code",
   "execution_count": null,
   "id": "5b4d5561-1e5d-4f84-b25c-2beafdfb5bee",
   "metadata": {},
   "outputs": [],
   "source": [
    "fig, ax = plt.subplots(figsize=(14,7))\n",
    "gw_provinces_gdf.plot(ax=ax, color=\"whitesmoke\", edgecolor=\"grey\")\n",
    "subset.plot(ax=ax, color=\"palegreen\", edgecolor=\"grey\")"
   ]
  },
  {
   "cell_type": "markdown",
   "id": "8af1336c-b26e-4472-b6e8-7ebba27a0c11",
   "metadata": {},
   "source": [
    "**Question 8. Calculate zonal statistics for selected geometries as `sum` of Production raster. Dissolve `production` column by `PROVINCE`.**"
   ]
  },
  {
   "cell_type": "code",
   "execution_count": null,
   "id": "3f08344e-a930-4e76-8d09-78cadbc19b48",
   "metadata": {},
   "outputs": [],
   "source": [
    "subset_stats = subset.copy()\n",
    "subset_stats[\"production\"] = subset_stats.apply(lambda x: zonal_stats(x.geometry, spam_p_array, affine=spam_p.transform, \n",
    "                                                            nodata=spam_p.nodata, stats =[\"sum\"])[0][\"sum\"], axis=1)\n",
    "summary = subset_stats[[\"PROVINCE\", \"geometry\", \"production\"]].dissolve(by=\"PROVINCE\", aggfunc=\"sum\")\n",
    "summary"
   ]
  },
  {
   "cell_type": "markdown",
   "id": "49fb7026-d2b6-4c5c-9fa8-4607e04f9654",
   "metadata": {},
   "source": [
    "**Question 9. Rasterize your `GeoDataFrame` by `production` column. Plot the array.**"
   ]
  },
  {
   "cell_type": "code",
   "execution_count": null,
   "id": "98a94f9c-484b-4824-8928-8237f876dc5e",
   "metadata": {},
   "outputs": [],
   "source": [
    "geom_value = ((geom, value) for geom, value in zip(summary.geometry, summary[\"production\"]))\n",
    "rasterized = features.rasterize(geom_value,\n",
    "                               out_shape=spam_p_array.shape,\n",
    "                               transform=spam_p.transform,\n",
    "                               fill=np.nan,\n",
    "                               all_touched=True)"
   ]
  },
  {
   "cell_type": "code",
   "execution_count": null,
   "id": "a189159d-d0af-4181-94ef-b8ac123b1756",
   "metadata": {},
   "outputs": [],
   "source": [
    "fig, ax = plt.subplots(figsize = (14,5))\n",
    "plot_extent = plotting_extent(spam_y_array, spam_p.transform)\n",
    "gw_provinces_gdf.plot(ax=ax, color=\"none\", edgecolor=\"grey\")\n",
    "plot0 = ax.imshow(rasterized, interpolation=\"none\", cmap=\"RdYlGn\", extent=plot_extent)\n",
    "fig.colorbar(plot0, ax=ax)\n",
    "ax.set_title(\"Total production in selected provinces\")"
   ]
  },
  {
   "cell_type": "code",
   "execution_count": null,
   "id": "82c87bca-0f56-4c74-b49b-ed0dea5f4cc6",
   "metadata": {},
   "outputs": [],
   "source": []
  }
 ],
 "metadata": {
  "kernelspec": {
   "display_name": "Python 3 (ipykernel)",
   "language": "python",
   "name": "python3"
  },
  "language_info": {
   "codemirror_mode": {
    "name": "ipython",
    "version": 3
   },
   "file_extension": ".py",
   "mimetype": "text/x-python",
   "name": "python",
   "nbconvert_exporter": "python",
   "pygments_lexer": "ipython3",
   "version": "3.9.12"
  }
 },
 "nbformat": 4,
 "nbformat_minor": 5
}
