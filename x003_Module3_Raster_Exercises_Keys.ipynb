{
 "cells": [
  {
   "cell_type": "markdown",
   "id": "f609242d-0ff1-4db9-9342-e1c372f6cb5a",
   "metadata": {},
   "source": [
    "# **Module 3: Raster Data in Python**"
   ]
  },
  {
   "cell_type": "code",
   "execution_count": null,
   "id": "59d3a097-b624-4e59-a862-c08c81be75b0",
   "metadata": {
    "tags": []
   },
   "outputs": [],
   "source": [
    "import numpy as np\n",
    "from matplotlib import pyplot as plt\n",
    "from rasterio.transform import Affine\n",
    "import rasterio\n",
    "from shapely.geometry.polygon import Polygon\n",
    "import geopandas as gpd\n",
    "import rasterio.mask\n",
    "from rasterstats import zonal_stats\n",
    "from rasterio import features\n",
    "import xarray as xr\n",
    "from xrspatial.convolution import circle_kernel, custom_kernel\n",
    "from xrspatial.focal import focal_stats\n",
    "from xrspatial.zonal import stats\n",
    "from rasterio.plot import plotting_extent\n",
    "from rasterio.enums import Resampling"
   ]
  },
  {
   "cell_type": "markdown",
   "id": "999c7a71-d84c-4224-8359-e0d8bf58a56c",
   "metadata": {},
   "source": [
    "## **Exercises**\n",
    "Your expercises will draw on datasets from the Spatial Production Allocation Model (SPAM) and Minnesota Geospatial Commons, which have been downloaded, cleaned, transformed, and saved to the directory `./data-module-3/` for this workshop.\n",
    "### Data\n",
    "- `spam_H_MAIZ_A_mn.tif` (crop harvested area), `spam_P_MAIZ_A_mn.tif` (crop production) - agricultural indicators at 10x10km grid-cell resolution from MAPSPAM (Spatial Production Allocation Model) data center  https://www.mapspam.info/data/\n",
    "- `gw_provinces_extra.shp` - Groundwater Provinces of Minnesota derived from  https://gisdata.mn.gov/dataset/geos-groundwater-provinces-mn"
   ]
  },
  {
   "cell_type": "markdown",
   "id": "451ed3a4-3c0f-4234-9a4a-b8a52eab68d2",
   "metadata": {},
   "source": [
    "**Question 1. Open raster files `spam_H_MAIZ_A_mn.tif` and `spam_P_MAIZ_A_mn.tif` and check their properties: Coordinate Reference System, extent, resolution, NoData, and transform .** "
   ]
  },
  {
   "cell_type": "code",
   "execution_count": null,
   "id": "857a52f7-19f7-47ef-9762-747a08d097cc",
   "metadata": {},
   "outputs": [],
   "source": [
    "spam_h = rasterio.open(\"./data-module-3/spam_H_MAIZ_A_mn.tif\")\n",
    "print (\"Dataset CRS is {}\".format(spam_h.crs))\n",
    "print (\"Dataset extent is {}\".format(spam_h.bounds))\n",
    "print (\"Dataset resolution is {}\".format(spam_h.res))\n",
    "print (\"Dataset NoData is {}\".format(spam_h.nodata))\n",
    "print (\"Dataset tranform is\")\n",
    "spam_h.transform"
   ]
  },
  {
   "cell_type": "code",
   "execution_count": null,
   "id": "4b0226a4-c6c5-48cd-89ff-69d3025acfe3",
   "metadata": {},
   "outputs": [],
   "source": [
    "spam_p = rasterio.open(\"./data-module-3/spam_P_MAIZ_A_mn.tif\")\n",
    "print (\"Dataset CRS is {}\".format(spam_p.crs))\n",
    "print (\"Dataset extent is {}\".format(spam_p.bounds))\n",
    "print (\"Dataset resolution is {}\".format(spam_p.res))\n",
    "print (\"Dataset NoData is {}\".format(spam_p.nodata))\n",
    "print (\"Dataset tranform is\")\n",
    "spam_p.transform"
   ]
  },
  {
   "cell_type": "markdown",
   "id": "b420fe6a-bd28-4ae9-9b1b-4c416d6e6ca2",
   "metadata": {},
   "source": [
    "**Question 2. Read datasets from the previous question as arrays, reset NoData values, and plot them.**"
   ]
  },
  {
   "cell_type": "code",
   "execution_count": null,
   "id": "a0c9e0df-d2c2-41fe-ad53-89adb80196e5",
   "metadata": {},
   "outputs": [],
   "source": [
    "spam_h_array = spam_h.read(1)\n",
    "spam_h_array[spam_h_array==spam_h.nodata]=np.nan\n",
    "spam_p_array = spam_p.read(1)\n",
    "spam_p_array[spam_p_array==spam_p.nodata]=np.nan"
   ]
  },
  {
   "cell_type": "code",
   "execution_count": null,
   "id": "f4ea8ae3-7a6a-4a89-8a09-7b2c0346f3d2",
   "metadata": {},
   "outputs": [],
   "source": [
    "fig, axs = plt.subplots(1,2, figsize=(12,4))\n",
    "plot0 = axs[0].imshow(spam_h_array, cmap=\"BrBG\")\n",
    "fig.colorbar(plot0, ax=axs[0])\n",
    "axs[0].set_title(\"Harvested Area\")\n",
    "plot1 = axs[1].imshow(spam_p_array, cmap=\"BrBG\")\n",
    "fig.colorbar(plot1, ax=axs[1])\n",
    "axs[1].set_title(\"Production\")\n",
    "plt.tight_layout()"
   ]
  },
  {
   "cell_type": "markdown",
   "id": "6414c8aa-1e74-4a60-94b9-7bf9860b7e6d",
   "metadata": {},
   "source": [
    "**Question 3. Calculate a ratio of Production raster to Harvested Area to create an array Yield. Find statistics: maximum Yield and its standard deviation.**"
   ]
  },
  {
   "cell_type": "code",
   "execution_count": null,
   "id": "f8e24899-5d24-4aca-8373-7f2a9bc5987c",
   "metadata": {},
   "outputs": [],
   "source": [
    "#np.seterr(invalid=\"ignore\")\n",
    "spam_y_array = spam_p_array/spam_h_array\n",
    "print (\"Maximum Yield is {}\".format(np.nanmax(spam_y_array)))\n",
    "print (\"Standard Deviation of Yield is {}\".format(np.nanstd(spam_y_array)))"
   ]
  },
  {
   "cell_type": "markdown",
   "id": "3aae4827-3cf5-485d-bf50-4bdbde30dc72",
   "metadata": {},
   "source": [
    "**Question 4. Reclassify Yield array by using 3 categories (make your own breaks). Plot both for comparison.**"
   ]
  },
  {
   "cell_type": "code",
   "execution_count": null,
   "id": "56ec0f04-d729-4e09-92d8-400d3c145d1f",
   "metadata": {},
   "outputs": [],
   "source": [
    "reclassified = spam_y_array.copy()\n",
    "reclassified[(reclassified > 0) & (reclassified <= 8)] = 1\n",
    "reclassified[(reclassified > 8) & (reclassified <= 10)] = 2\n",
    "reclassified[(reclassified > 10)] = 3"
   ]
  },
  {
   "cell_type": "code",
   "execution_count": null,
   "id": "66f82220-1dff-4a8b-8af2-f6dd0d057699",
   "metadata": {},
   "outputs": [],
   "source": [
    "fig, axs = plt.subplots(1,2,  figsize=(12,4))\n",
    "plot0 = axs[0].imshow(spam_y_array, cmap=\"RdYlGn\")\n",
    "fig.colorbar(plot0, ax=axs[0])\n",
    "axs[0].set_title(\"Yield original\")\n",
    "plot1 = axs[1].imshow(reclassified, cmap=\"RdYlGn\")\n",
    "fig.colorbar(plot1, ax=axs[1])\n",
    "axs[1].set_title(\"Yield reclassified\")\n",
    "plt.tight_layout()"
   ]
  },
  {
   "cell_type": "markdown",
   "id": "183e29aa-d04f-49e7-a45f-f057271ec253",
   "metadata": {},
   "source": [
    "**Question 5: Resample Production raster to a coarser resolution. Plot both for comparison**"
   ]
  },
  {
   "cell_type": "code",
   "execution_count": null,
   "id": "3aaca99a-0da8-4caf-ae8b-84abf024f41a",
   "metadata": {},
   "outputs": [],
   "source": [
    "scale_factor = 1/2\n",
    "with rasterio.open(\"./data-module-3/spam_P_MAIZ_A_mn.tif\") as dataset:\n",
    "    data = dataset.read(\n",
    "        out_shape=(\n",
    "            dataset.count,\n",
    "            int(dataset.height * scale_factor),\n",
    "            int(dataset.width * scale_factor)\n",
    "        ),\n",
    "        resampling=Resampling.nearest\n",
    "    )\n",
    "    transform = dataset.transform * dataset.transform.scale(\n",
    "        (dataset.width / data.shape[-1]),\n",
    "        (dataset.height / data.shape[-2])\n",
    "    )\n",
    "aggregated = data[0]\n",
    "aggregated[aggregated==dataset.nodata]=np.nan"
   ]
  },
  {
   "cell_type": "code",
   "execution_count": null,
   "id": "62bacbe3-fc1e-4372-8764-148ff11a11e7",
   "metadata": {},
   "outputs": [],
   "source": [
    "fig, axs = plt.subplots(1,2,  figsize=(12,4))\n",
    "plot0 = axs[0].imshow(spam_p_array, cmap=\"RdYlGn\")\n",
    "fig.colorbar(plot0, ax=axs[0])\n",
    "axs[0].set_title(\"Production original\")\n",
    "plot1 = axs[1].imshow(aggregated, cmap=\"RdYlGn\")\n",
    "fig.colorbar(plot1, ax=axs[1])\n",
    "axs[1].set_title(\"Production aggregated\")\n",
    "plt.tight_layout()"
   ]
  },
  {
   "cell_type": "markdown",
   "id": "f89d3a05-f52e-4abc-8a51-243b345395f7",
   "metadata": {},
   "source": [
    "**Question 6. Use focal statistics function on Yield array to create an array which shows the mean yield within 3x3 neighborhood grid cells. Then create a raster map that displays the difference between each grid cell's Yield and \"mean\" Yield of its neighborhood. Plot the original raster, raster with focal statistics applied, and their difference raster as 3 subplots on the same figure.**"
   ]
  },
  {
   "cell_type": "code",
   "execution_count": null,
   "id": "20213642-178e-40cb-a755-731b3e62da42",
   "metadata": {},
   "outputs": [],
   "source": [
    "spam_y_xr =  xr.DataArray(spam_y_array, dims=[\"y\", \"x\"], name=\"yield\")\n",
    "kernel = np.ones([3,3])\n",
    "spam_y_xr_focal = focal_stats(spam_y_xr, kernel, stats_funcs=[\"mean\"])[0]\n",
    "difference  = spam_y_xr - spam_y_xr_focal"
   ]
  },
  {
   "cell_type": "code",
   "execution_count": null,
   "id": "a529a83d-2e44-4d28-93b6-47b52b5482e7",
   "metadata": {},
   "outputs": [],
   "source": [
    "fig, axs = plt.subplots(1,3, figsize=(15,4))\n",
    "plot0 = axs[0].imshow(spam_y_xr, cmap=\"BrBG\")\n",
    "fig.colorbar(plot0, ax=axs[0])\n",
    "axs[0].set_title(\"Yield original\")\n",
    "plot1 = axs[1].imshow(spam_y_xr_focal, cmap=\"BrBG\") \n",
    "fig.colorbar(plot1, ax=axs[1])\n",
    "axs[1].set_title(\"Yield Mean focal\")\n",
    "plot2 = axs[2].imshow(difference, cmap=\"coolwarm\") \n",
    "fig.colorbar(plot2, ax=axs[2])\n",
    "axs[2].set_title(\"Difference between original and focal\")\n",
    "plt.tight_layout()"
   ]
  },
  {
   "cell_type": "markdown",
   "id": "17679520-f4be-428e-8789-ee414ae00d10",
   "metadata": {},
   "source": [
    "**Question 7. Open `gw_provinces_extra.shp`. Change the CRS of the polygon data to the CRS of the Production raster dataset. Select polygons with `PROVINCE` 1, 2, and 3 for further analysis.** "
   ]
  },
  {
   "cell_type": "code",
   "execution_count": null,
   "id": "e0e26bd1-fea3-4868-9113-6aacc27137ea",
   "metadata": {},
   "outputs": [],
   "source": [
    "gw_provinces_gdf = gpd.read_file(\"./data-module-3/gw_provinces_extra.shp\")\n",
    "print (\"Coordinate system is {}\".format(gw_provinces_gdf.crs))\n",
    "gw_provinces_gdf = gw_provinces_gdf.to_crs(spam_p.crs)\n",
    "subset = gw_provinces_gdf[(gw_provinces_gdf.PROVINCE == \"1\")|(gw_provinces_gdf.PROVINCE == \"2\")|(gw_provinces_gdf.PROVINCE == \"3\")]"
   ]
  },
  {
   "cell_type": "code",
   "execution_count": null,
   "id": "bd185076-c72b-4546-8539-33190e0e0f02",
   "metadata": {},
   "outputs": [],
   "source": [
    "fig, ax = plt.subplots(figsize=(14,7))\n",
    "gw_provinces_gdf.plot(ax=ax, color=\"whitesmoke\", edgecolor=\"grey\")\n",
    "subset.plot(ax=ax, color=\"palegreen\", edgecolor=\"grey\")"
   ]
  },
  {
   "cell_type": "markdown",
   "id": "8af1336c-b26e-4472-b6e8-7ebba27a0c11",
   "metadata": {},
   "source": [
    "**Question 8. Calculate zonal statistics for selected geometries as `sum` of Production raster. Dissolve `production` column by `PROVINCE`.**"
   ]
  },
  {
   "cell_type": "code",
   "execution_count": null,
   "id": "71eea6fd-8074-45c7-9d5c-82bac88ddc8f",
   "metadata": {},
   "outputs": [],
   "source": [
    "subset_stats = subset.copy()\n",
    "subset_stats[\"production\"] = subset_stats.apply(lambda x: zonal_stats(x.geometry, spam_p_array, affine=spam_p.transform, \n",
    "                                                            nodata=spam_p.nodata, stats =[\"sum\"])[0][\"sum\"], axis=1)\n",
    "summary = subset_stats[[\"PROVINCE\", \"geometry\", \"production\"]].dissolve(by=\"PROVINCE\", aggfunc=\"sum\")\n",
    "summary"
   ]
  },
  {
   "cell_type": "code",
   "execution_count": null,
   "id": "9d8f8c1b-170d-4ca9-901a-808ff23ecc93",
   "metadata": {},
   "outputs": [],
   "source": []
  }
 ],
 "metadata": {
  "kernelspec": {
   "display_name": "Python 3 (ipykernel)",
   "language": "python",
   "name": "python3"
  },
  "language_info": {
   "codemirror_mode": {
    "name": "ipython",
    "version": 3
   },
   "file_extension": ".py",
   "mimetype": "text/x-python",
   "name": "python",
   "nbconvert_exporter": "python",
   "pygments_lexer": "ipython3",
   "version": "3.9.12"
  }
 },
 "nbformat": 4,
 "nbformat_minor": 5
}
