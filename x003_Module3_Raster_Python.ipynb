{
 "cells": [
  {
   "cell_type": "markdown",
   "id": "f609242d-0ff1-4db9-9342-e1c372f6cb5a",
   "metadata": {},
   "source": [
    "# **Module 3: Raster Data in Python**\n",
    "## Prerequisites\n",
    "### Data\n",
    "- in this example, we will create some raster data to imitate real-world data. We will use `data-module-3` as a workspace.\n",
    "- `ndvi_summer.tif` and `ndvi_winter.tif` - Normalized Difference Vegetation Index (NDVI) for a study area in Kansas. NDVI is an indicator of vegetation health. Data exported from Climate Engine at http://climateengine.org.\n",
    "- `ag_fields.shp` - selected agricultural fields for a study area in Kansas.\n",
    "### Software\n",
    "To execute the code you will need a `conda` environment for Python with the packages imported below."
   ]
  },
  {
   "cell_type": "code",
   "execution_count": null,
   "id": "c5b0b723-5b25-4738-bd65-a428bc4eceb2",
   "metadata": {
    "tags": []
   },
   "outputs": [],
   "source": [
    "import numpy as np\n",
    "from matplotlib import pyplot as plt\n",
    "from rasterio.transform import Affine\n",
    "import rasterio\n",
    "from shapely.geometry.polygon import Polygon\n",
    "import geopandas as gpd\n",
    "import rasterio.mask\n",
    "from rasterstats import zonal_stats\n",
    "from rasterio import features\n",
    "import xarray as xr\n",
    "from xrspatial.convolution import circle_kernel, custom_kernel\n",
    "from xrspatial.focal import focal_stats\n",
    "from xrspatial.zonal import stats\n",
    "from rasterio.plot import plotting_extent\n",
    "from rasterio.enums import Resampling"
   ]
  },
  {
   "cell_type": "markdown",
   "id": "348ae212-fdd8-43af-847b-f145ba73eb29",
   "metadata": {
    "tags": []
   },
   "source": [
    "## Create raster data\n",
    "To generate raster data in Python we use on `numpy` and `rasterio` packages. We need the following three components:\n",
    "- An array of data and the xy coordinates;\n",
    "- A Coordinate Reference System;\n",
    "- A transform defining the coordinate of the upper left hand corner of the array."
   ]
  },
  {
   "cell_type": "code",
   "execution_count": null,
   "id": "1792ddf1-99ae-48ef-85e9-4e7e427edf04",
   "metadata": {
    "tags": []
   },
   "outputs": [],
   "source": [
    "print (\"Generate data\")\n",
    "ras_0 = np.zeros([6, 6])\n",
    "ras_a = np.arange(1, 37).reshape(6, 6)\n",
    "np.random.seed(0)\n",
    "ras_b = np.random.randint(100, size=(6,6))"
   ]
  },
  {
   "cell_type": "code",
   "execution_count": null,
   "id": "5bb82fe9-9d1b-4522-bdf6-267dbd3250e0",
   "metadata": {},
   "outputs": [],
   "source": [
    "fig, axs = plt.subplots(1,3, figsize=(15,4))\n",
    "plot0 = axs[0].imshow(ras_0, cmap=\"YlGnBu\")\n",
    "fig.colorbar(plot0, ax=axs[0])\n",
    "axs[0].set_title(\"'Zeros' array\")\n",
    "plot1 = axs[1].imshow(ras_a, cmap=\"YlGnBu\")\n",
    "fig.colorbar(plot1, ax=axs[1])\n",
    "axs[1].set_title(\"ras_a (Consecutive Integers)\")\n",
    "plot2 = axs[2].imshow(ras_b, cmap=\"YlGnBu\")\n",
    "fig.colorbar(plot2, ax=axs[2])\n",
    "axs[2].set_title(\"ras_b (Random Integers)\")"
   ]
  },
  {
   "cell_type": "code",
   "execution_count": null,
   "id": "25b41c56-b38a-4e38-a47d-4da5506ae77a",
   "metadata": {},
   "outputs": [],
   "source": [
    "print (\"Genarate arrays with coordinates\")\n",
    "x = np.linspace(-1.25, 1.25, 6)\n",
    "y = np.linspace(-1.25, 1.25, 6)\n",
    "X, Y = np.meshgrid(x, y)"
   ]
  },
  {
   "cell_type": "code",
   "execution_count": null,
   "id": "02bc39d3-9c50-4770-9898-2e8c68f5a7ab",
   "metadata": {},
   "outputs": [],
   "source": [
    "fig, axs = plt.subplots(1,2, figsize=(10,4))\n",
    "plot0 = axs[0].imshow(X, cmap=\"magma_r\", origin=\"lower\")\n",
    "fig.colorbar(plot0, ax=axs[0])\n",
    "axs[0].set_title(\"longitude\")\n",
    "plot1 = axs[1].imshow(Y, cmap=\"magma_r\",origin=\"lower\")\n",
    "fig.colorbar(plot1, ax=axs[1])\n",
    "axs[1].set_title(\"latitude\")"
   ]
  },
  {
   "cell_type": "code",
   "execution_count": null,
   "id": "6bfff7cb-37ec-4b2d-8394-4d568fdf5573",
   "metadata": {},
   "outputs": [],
   "source": [
    "print (\"Define transform and save raster 'ras_a' to a file\")\n",
    "res = 0.5\n",
    "transform = Affine.translation(x[0] - res / 2, -(y[0] - res / 2)) * Affine.scale(res, -res)\n",
    "with rasterio.open(\"./data-module-3/ras_a.tif\",\n",
    "                   \"w\",\n",
    "                   height=ras_a.shape[0],\n",
    "                   width=ras_a.shape[1],\n",
    "                   count=1,\n",
    "                   dtype=np.int16,\n",
    "                   crs=\"epsg:4326\",\n",
    "                   transform=transform,\n",
    "                   nodata=-999\n",
    "                  ) as dst:\n",
    "     dst.write(ras_a, 1)"
   ]
  },
  {
   "cell_type": "markdown",
   "id": "d73ae21f-b1fd-47ae-9d52-d75e0dfdb8ba",
   "metadata": {},
   "source": [
    "## Read raster data from a file"
   ]
  },
  {
   "cell_type": "code",
   "execution_count": null,
   "id": "ebe4e60f-52b9-43ca-aa27-59246294a0be",
   "metadata": {},
   "outputs": [],
   "source": [
    "ndvi_winter = rasterio.open(\"./data-module-3/ndvi_winter.tif\")\n",
    "ndvi_summer = rasterio.open(\"./data-module-3/ndvi_summer.tif\")\n",
    "print (\"Dataset CRS is {}\".format(ndvi_summer.crs))\n",
    "print (\"Dataset extent is {}\".format(ndvi_summer.bounds))\n",
    "print (\"Dataset resolution is {}\".format(ndvi_summer.res))\n",
    "print (\"Dataset NoData is {}\".format(ndvi_summer.nodata))\n",
    "print (\"Dataset tranform is\")\n",
    "ndvi_summer.transform"
   ]
  },
  {
   "cell_type": "code",
   "execution_count": null,
   "id": "8143f4b7-f96e-4b70-93a4-790c654e954d",
   "metadata": {},
   "outputs": [],
   "source": [
    "ndvi_winter_array = ndvi_winter.read(1)\n",
    "ndvi_winter_array[ndvi_winter_array==ndvi_winter.nodata] = np.nan\n",
    "ndvi_summer_array = ndvi_summer.read(1)\n",
    "ndvi_summer_array[ndvi_summer_array==ndvi_summer.nodata] = np.nan"
   ]
  },
  {
   "cell_type": "code",
   "execution_count": null,
   "id": "dfaf7786-2184-41cc-b589-3e0b4d32c8c4",
   "metadata": {},
   "outputs": [],
   "source": [
    "fig, axs = plt.subplots(1,2, figsize=(10,4))\n",
    "plot0 = axs[0].imshow(ndvi_winter_array, cmap=\"YlGn\", clim=(0,1))\n",
    "fig.colorbar(plot0, ax=axs[0])\n",
    "axs[0].set_title(\"NDVI winter\")\n",
    "plot1 = axs[1].imshow(ndvi_summer_array, cmap=\"YlGn\",  clim=(0,1))\n",
    "fig.colorbar(plot1, ax=axs[1])\n",
    "axs[1].set_title(\"NDVI summer\")\n",
    "plt.tight_layout()"
   ]
  },
  {
   "cell_type": "markdown",
   "id": "2cefc979-631b-40b1-a19a-6464b62d5ff8",
   "metadata": {},
   "source": [
    "## Describe raster data"
   ]
  },
  {
   "cell_type": "code",
   "execution_count": null,
   "id": "0b29aee2-d4d8-4810-99bb-378002dd0fa8",
   "metadata": {},
   "outputs": [],
   "source": [
    "print (\"Number of rows of raster b is {}\".format(ras_b.shape[0]))\n",
    "print (\"Number of colomns of raster b is {}\".format(ras_b.shape[1]))\n",
    "print (\"Number of cells of raster b is {}\".format(ras_b.shape[0]*ras_b.shape[1]))\n",
    "plt.hist(ras_b.flatten(), facecolor=\"grey\", alpha=0.75)"
   ]
  },
  {
   "cell_type": "code",
   "execution_count": null,
   "id": "e24d02c5-9a2d-4222-9ef5-822cd14b5aa7",
   "metadata": {},
   "outputs": [],
   "source": [
    "print (\"Raster unique values are: {}\".format(np.unique(ras_b)))\n",
    "print (\"Get subsets of raster data\")\n",
    "print (\"Value at position 0 col and 0 row {}\".format(ras_b[0,0]))\n",
    "print (\"Value at position 2 col and 2 row {}\".format(ras_b[2,2]))\n",
    "print (\"Array starting from 2 col and 2 row:\")\n",
    "print (ras_b[2:, 2:])"
   ]
  },
  {
   "cell_type": "markdown",
   "id": "f7b0ddfd-78af-4dfb-a57f-a4c91894fbea",
   "metadata": {},
   "source": [
    "## Summarize raster data\n",
    "Below we present some methods to summarize and describe array data with common statistics."
   ]
  },
  {
   "cell_type": "code",
   "execution_count": null,
   "id": "c6a78e36-7fed-43d6-bbb9-ed5bbf883bf2",
   "metadata": {},
   "outputs": [],
   "source": [
    "print (\"Applying mean() function:\")\n",
    "print (np.mean(ras_a))\n",
    "print (\"Applying mean() function along axis 0:\")\n",
    "print (np.mean(ras_a, axis = 0)) \n",
    "print (\"Applying mean() function along axis 1:\")\n",
    "print (np.mean(ras_a, axis = 1))\n",
    "print (\"Applying median() function:\")\n",
    "print (np.median(ras_a))\n",
    "print (\"Applying max() function:\")\n",
    "print (np.max(ras_a))\n",
    "print (\"Applying min() function:\")\n",
    "print (np.min(ras_a))\n",
    "print (\"Applying std() function:\")\n",
    "print (np.std(ras_a))\n",
    "print (\"Applying percentile() function:\")\n",
    "print (np.percentile(ras_a, 70))"
   ]
  },
  {
   "cell_type": "code",
   "execution_count": null,
   "id": "a7e91438-4788-49cc-8f50-c9dd27499ae2",
   "metadata": {},
   "outputs": [],
   "source": [
    "print (\"Applying mean() function:\")\n",
    "print (np.mean(ndvi_summer_array))"
   ]
  },
  {
   "cell_type": "code",
   "execution_count": null,
   "id": "7d54d8f0-2d41-4f1f-8557-3265279d03e2",
   "metadata": {},
   "outputs": [],
   "source": [
    "print (\"Applying nanmean() function:\")\n",
    "print (np.nanmean(ndvi_summer_array))\n",
    "print (\"Applying nanmedian() function:\")\n",
    "print (np.nanmedian(ndvi_summer_array))\n",
    "print (\"Applying nanmax() function:\")\n",
    "print (np.nanmax(ndvi_summer_array))\n",
    "print (\"Applying nanmin() function:\")\n",
    "print (np.nanmin(ndvi_summer_array))\n",
    "print (\"Applying nanstd() function:\")\n",
    "print (np.nanstd(ndvi_summer_array))\n",
    "print (\"Applying nanpercentile() function:\")\n",
    "print (np.nanpercentile(ndvi_summer_array, 70))"
   ]
  },
  {
   "cell_type": "markdown",
   "id": "8c3ea191-a7ea-4763-b288-6a094b7eca53",
   "metadata": {},
   "source": [
    "## <span style=\"color:blue\">Local:</span> Map algebra \n",
    "Below we demonstrate examples of how to use execute a variety of map algebra expressions on one or more arrays."
   ]
  },
  {
   "cell_type": "code",
   "execution_count": null,
   "id": "bad95244-b585-4fb4-9166-561012f216fc",
   "metadata": {},
   "outputs": [],
   "source": [
    "X2 =  ras_a*2\n",
    "Sq = ras_a**2\n",
    "ras_a_cap = ras_a.copy()\n",
    "ras_a_cap[ras_a_cap >= 25 ] = 25\n",
    "ratio = ras_b/ras_a\n",
    "mean = (X2+Sq)/2"
   ]
  },
  {
   "cell_type": "code",
   "execution_count": null,
   "id": "393a1b09-be5d-42d6-a5a8-24b48473bd40",
   "metadata": {},
   "outputs": [],
   "source": [
    "fig, axs = plt.subplots(1,5, figsize=(16,3))\n",
    "plot0 = axs[0].imshow(X2, cmap=\"PiYG\")\n",
    "fig.colorbar(plot0, ax=axs[0])\n",
    "axs[0].set_title(\"ras_a doubled\")\n",
    "plot1 = axs[1].imshow(Sq, cmap=\"PiYG\")\n",
    "fig.colorbar(plot1, ax=axs[1])\n",
    "axs[1].set_title(\"ras_a squared\")\n",
    "plot2 = axs[2].imshow(ras_a_cap, cmap=\"PiYG\")\n",
    "fig.colorbar(plot2, ax=axs[2])\n",
    "axs[2].set_title(\"ras_a capped at 25\")\n",
    "plot3 = axs[3].imshow(ratio, cmap=\"PiYG\")\n",
    "fig.colorbar(plot3, ax=axs[3])\n",
    "axs[3].set_title(\"Ratio of ras_b to ras_a\")\n",
    "plot4 = axs[4].imshow(mean, cmap=\"PiYG\")\n",
    "fig.colorbar(plot4, ax=axs[4])\n",
    "axs[4].set_title(\"Mean of doubled/squared\")\n",
    "plt.tight_layout()"
   ]
  },
  {
   "cell_type": "code",
   "execution_count": null,
   "id": "4b0c1f16-ef4d-4656-9352-1a5d10830eed",
   "metadata": {},
   "outputs": [],
   "source": [
    "ndvi_diff_array = ndvi_summer_array - ndvi_winter_array"
   ]
  },
  {
   "cell_type": "code",
   "execution_count": null,
   "id": "c629f4fc-b5ff-474e-bcb2-fc1fab2824f5",
   "metadata": {},
   "outputs": [],
   "source": [
    "fig, axs = plt.subplots(1,3, figsize=(15,4))\n",
    "plot0 = axs[0].imshow(ndvi_winter_array, cmap=\"YlGn\", clim=(0,1))\n",
    "fig.colorbar(plot0, ax=axs[0])\n",
    "axs[0].set_title(\"NDVI winter\")\n",
    "plot1 = axs[1].imshow(ndvi_summer_array, cmap=\"YlGn\",  clim=(0,1))\n",
    "fig.colorbar(plot1, ax=axs[1])\n",
    "axs[1].set_title(\"NDVI summer\")\n",
    "plot2 = axs[2].imshow(ndvi_diff_array, cmap=\"coolwarm\")\n",
    "fig.colorbar(plot2, ax=axs[2])\n",
    "axs[2].set_title(\"NDVI difference\")\n",
    "plt.tight_layout()"
   ]
  },
  {
   "cell_type": "markdown",
   "id": "7d935463-06af-4853-acad-61340672cf21",
   "metadata": {},
   "source": [
    "## <span style=\"color:blue\">Local:</span> Reclassify array data\n",
    "Reclassification allows to reassign one or more values in a raster dataset to new output values."
   ]
  },
  {
   "cell_type": "code",
   "execution_count": null,
   "id": "178a8666-949d-4f1b-bb05-da5b2d8f9e28",
   "metadata": {},
   "outputs": [],
   "source": [
    "reclassified = ras_a.copy()\n",
    "reclassified[(reclassified > 0) & (reclassified <= 12)] = 1\n",
    "reclassified[(reclassified > 12) & (reclassified <= 24)] = 2\n",
    "reclassified[(reclassified > 24) & (reclassified <= 37)] = 3"
   ]
  },
  {
   "cell_type": "code",
   "execution_count": null,
   "id": "45b843b2-9d3c-41e0-a609-b2b5115f0a8d",
   "metadata": {},
   "outputs": [],
   "source": [
    "fig, axs = plt.subplots(1,2, figsize=(10,4))\n",
    "plot0 = axs[0].imshow(ras_a, cmap=\"YlGnBu\")\n",
    "fig.colorbar(plot0, ax=axs[0])\n",
    "axs[0].set_title(\"ras_a\")\n",
    "plot1 = axs[1].imshow(reclassified, cmap=\"YlGnBu\")\n",
    "fig.colorbar(plot1, ax=axs[1])\n",
    "axs[1].set_title(\"ras_a reclassified\")\n",
    "plt.tight_layout()"
   ]
  },
  {
   "cell_type": "markdown",
   "id": "351d7f2f-f634-4cab-8d9e-0488567ed23a",
   "metadata": {},
   "source": [
    "## <span style=\"color:blue\">Focal:</span> Resample to a coarser resolution"
   ]
  },
  {
   "cell_type": "code",
   "execution_count": null,
   "id": "fb620349-bc97-4624-9bdc-2f43e6700560",
   "metadata": {},
   "outputs": [],
   "source": [
    "scale_factor = 1/2\n",
    "with rasterio.open(\"./data-module-3/ras_a.tif\") as dataset:\n",
    "    data = dataset.read(\n",
    "        out_shape=(\n",
    "            dataset.count,\n",
    "            int(dataset.height * scale_factor),\n",
    "            int(dataset.width * scale_factor)\n",
    "        ),\n",
    "        resampling=Resampling.nearest\n",
    "    )\n",
    "    transform = dataset.transform * dataset.transform.scale(\n",
    "        (dataset.width / data.shape[-1]),\n",
    "        (dataset.height / data.shape[-2])\n",
    "    )\n",
    "aggregated = data[0]"
   ]
  },
  {
   "cell_type": "code",
   "execution_count": null,
   "id": "de362282-196c-4640-b95c-151c72444da4",
   "metadata": {},
   "outputs": [],
   "source": [
    "fig, axs = plt.subplots(1,2, figsize=(10,4))\n",
    "plot0 = axs[0].imshow(ras_a, cmap=\"coolwarm\")\n",
    "fig.colorbar(plot0, ax=axs[0])\n",
    "axs[0].set_title(\"ras_a original\")\n",
    "plot1 = axs[1].imshow(aggregated, cmap=\"coolwarm\")\n",
    "fig.colorbar(plot1, ax=axs[1])\n",
    "axs[1].set_title(\"2x2 block-sum aggregated\")\n",
    "plt.tight_layout()"
   ]
  },
  {
   "cell_type": "code",
   "execution_count": null,
   "id": "0946d2be-1278-4331-81e0-18b9c6b8426e",
   "metadata": {},
   "outputs": [],
   "source": [
    "scale_factor = 1/10\n",
    "with rasterio.open(\"./data-module-3/ndvi_summer.tif\") as dataset:\n",
    "    data = dataset.read(\n",
    "        out_shape=(\n",
    "            dataset.count,\n",
    "            int(dataset.height * scale_factor),\n",
    "            int(dataset.width * scale_factor)\n",
    "        ),\n",
    "        resampling=Resampling.nearest\n",
    "    )\n",
    "    transform = dataset.transform * dataset.transform.scale(\n",
    "        (dataset.width / data.shape[-1]),\n",
    "        (dataset.height / data.shape[-2])\n",
    "    )\n",
    "aggregated = data[0]"
   ]
  },
  {
   "cell_type": "code",
   "execution_count": null,
   "id": "240dbe6f-738d-46c1-832f-e1b2bc36e4b7",
   "metadata": {},
   "outputs": [],
   "source": [
    "fig, axs = plt.subplots(1,2, figsize=(10,4))\n",
    "plot0 = axs[0].imshow(ndvi_summer_array,  cmap=\"YlGn\", clim=(0,1))\n",
    "fig.colorbar(plot0, ax=axs[0])\n",
    "axs[0].set_title(\"NDVI original\")\n",
    "plot1 = axs[1].imshow(aggregated,  cmap=\"YlGn\", clim=(0,1))\n",
    "fig.colorbar(plot1, ax=axs[1])\n",
    "axs[1].set_title(\"NDVI 2x2 block-sum aggregated\")\n",
    "plt.tight_layout()"
   ]
  },
  {
   "cell_type": "markdown",
   "id": "19a681f1-0e1b-491c-a58e-9b6662b35f4c",
   "metadata": {},
   "source": [
    "## <span style=\"color:blue\">Focal:</span> Resample to a higher resolution"
   ]
  },
  {
   "cell_type": "code",
   "execution_count": null,
   "id": "bd843592-1f74-45b7-93f4-f3f5b9f232b2",
   "metadata": {},
   "outputs": [],
   "source": [
    "scale_factor = 2\n",
    "with rasterio.open(\"./data-module-3/ras_a.tif\") as dataset:\n",
    "    data = dataset.read(\n",
    "        out_shape=(\n",
    "            dataset.count,\n",
    "            int(dataset.height * scale_factor),\n",
    "            int(dataset.width * scale_factor)\n",
    "        ),\n",
    "        resampling=Resampling.nearest\n",
    "    )\n",
    "    transform = dataset.transform * dataset.transform.scale(\n",
    "        (dataset.width / data.shape[-1]),\n",
    "        (dataset.height / data.shape[-2])\n",
    "    )\n",
    "resampled_n = data[0]\n",
    "\n",
    "with rasterio.open(\"./data-module-3/ras_a.tif\") as dataset:\n",
    "    data = dataset.read(\n",
    "        out_shape=(\n",
    "            dataset.count,\n",
    "            int(dataset.height * scale_factor),\n",
    "            int(dataset.width * scale_factor)\n",
    "        ),\n",
    "        resampling=Resampling.bilinear\n",
    "    )\n",
    "    transform = dataset.transform * dataset.transform.scale(\n",
    "        (dataset.width / data.shape[-1]),\n",
    "        (dataset.height / data.shape[-2])\n",
    "    )\n",
    "resampled_b = data[0]"
   ]
  },
  {
   "cell_type": "code",
   "execution_count": null,
   "id": "66c0767c-0382-4e47-bc37-2b88269a784c",
   "metadata": {},
   "outputs": [],
   "source": [
    "fig, axs = plt.subplots(1,3, figsize=(12,4))\n",
    "plot0 = axs[0].imshow(ras_a, cmap=\"coolwarm\")\n",
    "fig.colorbar(plot0, ax=axs[0])\n",
    "axs[0].set_title(\"ras_a original\")\n",
    "plot0 = axs[1].imshow(resampled_n, cmap=\"coolwarm\")\n",
    "fig.colorbar(plot0, ax=axs[1])\n",
    "axs[1].set_title(\"ras_a: nearest resamling\")\n",
    "plot1 = axs[2].imshow(resampled_b, cmap=\"coolwarm\")\n",
    "fig.colorbar(plot1, ax=axs[2])\n",
    "axs[2].set_title(\"ras_a: bilinear resampling\")\n",
    "plt.tight_layout()"
   ]
  },
  {
   "cell_type": "markdown",
   "id": "09167bc3-7c8d-4fc0-8ef2-628d8cca76b2",
   "metadata": {},
   "source": [
    "## <span style=\"color:blue\">Focal:</span> Apply focal statistics\n",
    "Focal statistics calculates a statistic for input cells with a set of overlapping windows or neighborhoods defined as `kernel`. Please note that we use `xarray` and `xarray-spatial` packages to perfrom these operations."
   ]
  },
  {
   "cell_type": "code",
   "execution_count": null,
   "id": "c58e0bec-1006-438d-a85e-06e0cd1094f8",
   "metadata": {},
   "outputs": [],
   "source": [
    "ras_b_xr =  xr.DataArray(ras_b, dims=[\"y\", \"x\"], name=\"b\")\n",
    "ras_b_xr"
   ]
  },
  {
   "cell_type": "code",
   "execution_count": null,
   "id": "d6c23200-4528-4c60-b98e-096c54803a51",
   "metadata": {},
   "outputs": [],
   "source": [
    "ds = xr.Dataset(data_vars=dict(a = ([\"y\", \"x\"], ras_a), b = ([\"y\", \"x\"], ras_b)), \n",
    "                attrs=dict(description=\"Data we generated\"))\n",
    "ds"
   ]
  },
  {
   "cell_type": "code",
   "execution_count": null,
   "id": "ec4c6108-fc4c-4fbc-ab3b-95c5bd514593",
   "metadata": {},
   "outputs": [],
   "source": [
    "kernel1 = circle_kernel(1,1,1)\n",
    "kernel2 = np.ones([3,3])\n",
    "focal1 = focal_stats(ras_b_xr, kernel1, stats_funcs=[\"min\"])[0]\n",
    "focal2 = focal_stats(ras_b_xr, kernel2, stats_funcs=[\"min\"])[0]"
   ]
  },
  {
   "cell_type": "code",
   "execution_count": null,
   "id": "ee47e2f3-ec44-4d0c-a72d-1f6b355d540c",
   "metadata": {},
   "outputs": [],
   "source": [
    "fig, axs = plt.subplots(1,3, figsize=(15,4))\n",
    "plot0 = axs[0].imshow(ras_b, cmap=\"coolwarm\")\n",
    "fig.colorbar(plot0, ax=axs[0])\n",
    "axs[0].set_title(\"ras_b original\")\n",
    "plot1 = axs[1].imshow(focal1, cmap=\"coolwarm\") \n",
    "fig.colorbar(plot1, ax=axs[1])\n",
    "axs[1].set_title(\"min focal wtih circle kernel\")\n",
    "plot2 = axs[2].imshow(focal2, cmap=\"coolwarm\") \n",
    "fig.colorbar(plot2, ax=axs[2])\n",
    "axs[2].set_title(\"min focal wtih custom kernel\")\n",
    "plt.tight_layout()"
   ]
  },
  {
   "cell_type": "code",
   "execution_count": null,
   "id": "2c29dc47-3364-453a-93f3-a25cf0272b72",
   "metadata": {},
   "outputs": [],
   "source": [
    "ndvi_summer_xr =  xr.DataArray(ndvi_summer_array, dims=[\"y\", \"x\"], name=\"ndvi_summer\")\n",
    "kernel = np.ones([15,15])\n",
    "ndvi_summer_xr_focal = focal_stats(ndvi_summer_xr, kernel, stats_funcs=[\"mean\"])[0]\n",
    "difference  = ndvi_summer_xr - ndvi_summer_xr_focal"
   ]
  },
  {
   "cell_type": "code",
   "execution_count": null,
   "id": "15b4b561-ee6e-4c07-9977-f28a6b4d3536",
   "metadata": {},
   "outputs": [],
   "source": [
    "fig, axs = plt.subplots(1,3, figsize=(15,4))\n",
    "plot0 = axs[0].imshow(ndvi_summer_xr, cmap=\"YlGn\", clim=(0,1))\n",
    "fig.colorbar(plot0, ax=axs[0])\n",
    "axs[0].set_title(\"NDVI summer original\")\n",
    "plot1 = axs[1].imshow(ndvi_summer_xr_focal, cmap=\"YlGn\", clim=(0,1)) \n",
    "fig.colorbar(plot1, ax=axs[1])\n",
    "axs[1].set_title(\"NDVI summer Mean focal\")\n",
    "plot2 = axs[2].imshow(difference, cmap=\"magma\") \n",
    "fig.colorbar(plot2, ax=axs[2])\n",
    "axs[2].set_title(\"Difference between original and focal\")\n",
    "plt.tight_layout()"
   ]
  },
  {
   "cell_type": "markdown",
   "id": "c713b110-7e58-44e0-b9cc-00b3e3f0a78d",
   "metadata": {},
   "source": [
    "## <span style=\"color:blue\">Zonal:</span> Summarize array by another array\n",
    "Here we show how to calculate summary statistics for each zone defined by a `zones` dataset, based on `values` array."
   ]
  },
  {
   "cell_type": "code",
   "execution_count": null,
   "id": "30668672-551b-48f2-9cfe-78dcd7338260",
   "metadata": {},
   "outputs": [],
   "source": [
    "print (\"Create 'zones' array\")\n",
    "np.random.seed(0)\n",
    "categorical = np.random.randint(1,4, size=(6,6))\n",
    "plt.imshow(categorical)\n",
    "plt.colorbar(ticks=[1,2,3])"
   ]
  },
  {
   "cell_type": "code",
   "execution_count": null,
   "id": "5b70bc60-9208-492c-83b8-374ff5299fb9",
   "metadata": {},
   "outputs": [],
   "source": [
    "values = xr.DataArray(ras_a)\n",
    "zones = xr.DataArray(categorical)\n",
    "stats_df = stats(zones=zones, values=values)\n",
    "stats_df"
   ]
  },
  {
   "cell_type": "markdown",
   "id": "5234b0f7-0ba4-4f30-850d-a4375e463e30",
   "metadata": {},
   "source": [
    "## Raster-vector interactions: Extract raster by vector geometries"
   ]
  },
  {
   "cell_type": "code",
   "execution_count": null,
   "id": "ad7a2380-8b4c-46ea-98d7-858c73b401d5",
   "metadata": {},
   "outputs": [],
   "source": [
    "print (\"Create arbitrary polygon\")\n",
    "polygon = Polygon([(0, 1.5), (0, 0), (1, 0), (1, -1), (-1, -1), (-1, 1.5)])\n",
    "gdf = gpd.GeoDataFrame(index=[0], crs=\"epsg:4326\", geometry=[polygon])\n",
    "gdf.plot(facecolor=\"none\", edgecolor=\"blue\")\n",
    "gdf.to_file(\"./data-module-3/pol.shp\")"
   ]
  },
  {
   "cell_type": "code",
   "execution_count": null,
   "id": "10323578-8702-4608-99a0-37db418d5494",
   "metadata": {},
   "outputs": [],
   "source": [
    "print (\"Extract raster by polygon\")\n",
    "with rasterio.open(\"./data-module-3/ras_a.tif\") as src:\n",
    "    out_img, out_transform = rasterio.mask.mask(dataset=src, shapes=gdf[\"geometry\"], \n",
    "                                                nodata=src.nodata, indexes=1, filled=False)\n",
    "    ras_a_masked = out_img\n",
    "plt.imshow(ras_a_masked, cmap=\"YlGnBu\")\n",
    "plt.colorbar()"
   ]
  },
  {
   "cell_type": "markdown",
   "id": "5993de8b-26eb-4c10-ab1a-695697e439b7",
   "metadata": {},
   "source": [
    "## <span style=\"color:blue\">Zonal:</span> Summarize by vector geometries (raster-vector interactions)"
   ]
  },
  {
   "cell_type": "code",
   "execution_count": null,
   "id": "04b6cab9-116a-454f-92b1-ac02386a3e04",
   "metadata": {},
   "outputs": [],
   "source": [
    "print (\"Summarize raster data by polygon shape\")\n",
    "zs = zonal_stats(\"./data-module-3/pol.shp\", \"./data-module-3/ras_a.tif\", stats = [\"mean\",  \"count\", \"sum\", \"std\", \"median\", \"majority\", \"minority\", \"range\"])\n",
    "print (zs)"
   ]
  },
  {
   "cell_type": "code",
   "execution_count": null,
   "id": "27871244-e7f4-4f36-84e7-61999eaddbb9",
   "metadata": {},
   "outputs": [],
   "source": [
    "fields_gdf = gpd.read_file(\"./data-module-3/ag_fields.shp\")"
   ]
  },
  {
   "cell_type": "code",
   "execution_count": null,
   "id": "baa99faa-2962-465f-b65d-21b0fa8508f1",
   "metadata": {},
   "outputs": [],
   "source": [
    "plot_extent = plotting_extent(ndvi_winter_array, ndvi_winter.transform)\n",
    "fig, axs = plt.subplots(1,2, figsize=(10,4))\n",
    "fields_gdf.plot(ax=axs[0], facecolor=\"none\", edgecolor=\"blue\", linewidth=2)\n",
    "plot0 = axs[0].imshow(ndvi_winter_array, cmap=\"YlGn\", clim=(0,1), extent=plot_extent)\n",
    "fig.colorbar(plot0, ax=axs[0])\n",
    "axs[0].set_title(\"NDVI winter\")\n",
    "fields_gdf.plot(ax=axs[1], facecolor=\"none\", edgecolor=\"blue\", linewidth=2)\n",
    "plot1 = axs[1].imshow(ndvi_summer_array, cmap=\"YlGn\",  clim=(0,1), extent=plot_extent)\n",
    "fig.colorbar(plot1, ax=axs[1])\n",
    "axs[1].set_title(\"NDVI summer\")\n",
    "plt.tight_layout()"
   ]
  },
  {
   "cell_type": "code",
   "execution_count": null,
   "id": "e273587e-7150-4c43-8d27-bb1ef46c483c",
   "metadata": {},
   "outputs": [],
   "source": [
    "zs = zonal_stats(\"./data-module-3/ag_fields.shp\", \"./data-module-3/ndvi_summer.tif\", stats = [\"mean\"])\n",
    "print (zs)"
   ]
  },
  {
   "cell_type": "code",
   "execution_count": null,
   "id": "098865a2-a0e6-43fb-a718-0b18874d1685",
   "metadata": {},
   "outputs": [],
   "source": [
    "stats_gdf = fields_gdf.copy()\n",
    "stats_gdf[\"ndvi_winter\"] = stats_gdf.apply(lambda x: zonal_stats(x.geometry, ndvi_winter_array, affine=ndvi_winter.transform, \n",
    "                                                         nodata=ndvi_winter.nodata, stats =[\"mean\"])[0][\"mean\"], axis=1)\n",
    "stats_gdf[\"ndvi_summer\"] = stats_gdf.apply(lambda x: zonal_stats(x.geometry, ndvi_summer_array, affine=ndvi_summer.transform, \n",
    "                                                         nodata=ndvi_summer.nodata, stats =[\"mean\"])[0][\"mean\"], axis=1)\n",
    "stats_gdf"
   ]
  },
  {
   "cell_type": "markdown",
   "id": "999c7a71-d84c-4224-8359-e0d8bf58a56c",
   "metadata": {},
   "source": [
    "## **Exercises**\n",
    "Your expercises will draw on datasets from the Spatial Production Allocation Model (SPAM) and Minnesota Geospatial Commons, which have been downloaded, cleaned, transformed, and saved to the directory `./data-module-3/` for this workshop.\n",
    "### Data\n",
    "- `spam_H_MAIZ_A_mn.tif` (crop harvested area), `spam_P_MAIZ_A_mn.tif` (crop production) - agricultural indicators at 10x10km grid-cell resolution from MAPSPAM (Spatial Production Allocation Model) data center  https://www.mapspam.info/data/\n",
    "- `gw_provinces_extra.shp` - Groundwater Provinces of Minnesota derived from  https://gisdata.mn.gov/dataset/geos-groundwater-provinces-mn"
   ]
  },
  {
   "cell_type": "markdown",
   "id": "451ed3a4-3c0f-4234-9a4a-b8a52eab68d2",
   "metadata": {},
   "source": [
    "**Question 1. Open raster files `spam_H_MAIZ_A_mn.tif` and `spam_P_MAIZ_A_mn.tif` and check their properties: Coordinate Reference System, extent, resolution, NoData, and transform .** "
   ]
  },
  {
   "cell_type": "code",
   "execution_count": null,
   "id": "d211740c-85b8-4acd-b0b1-54a006ae4895",
   "metadata": {},
   "outputs": [],
   "source": []
  },
  {
   "cell_type": "markdown",
   "id": "b420fe6a-bd28-4ae9-9b1b-4c416d6e6ca2",
   "metadata": {},
   "source": [
    "**Question 2. Read datasets from the previous question as arrays, reset NoData values, and plot them.**"
   ]
  },
  {
   "cell_type": "code",
   "execution_count": null,
   "id": "2864e55c-6532-42de-9693-7a7d4bbc7920",
   "metadata": {},
   "outputs": [],
   "source": []
  },
  {
   "cell_type": "markdown",
   "id": "6414c8aa-1e74-4a60-94b9-7bf9860b7e6d",
   "metadata": {},
   "source": [
    "**Question 3. Calculate a ratio of Production raster to Harvested Area to create an array Yield. Find statistics: maximum Yield and its standard deviation.**"
   ]
  },
  {
   "cell_type": "code",
   "execution_count": null,
   "id": "c764efcf-1acd-432b-a145-e926e40a0455",
   "metadata": {},
   "outputs": [],
   "source": []
  },
  {
   "cell_type": "markdown",
   "id": "3aae4827-3cf5-485d-bf50-4bdbde30dc72",
   "metadata": {},
   "source": [
    "**Question 4. Reclassify Yield array by using 3 categories (make your own breaks). Plot both for comparison.**"
   ]
  },
  {
   "cell_type": "code",
   "execution_count": null,
   "id": "bf8067a7-791a-4778-9143-118584901064",
   "metadata": {},
   "outputs": [],
   "source": []
  },
  {
   "cell_type": "markdown",
   "id": "183e29aa-d04f-49e7-a45f-f057271ec253",
   "metadata": {},
   "source": [
    "**Question 5: Resample Production raster to a coarser resolution. Plot both for comparison**"
   ]
  },
  {
   "cell_type": "code",
   "execution_count": null,
   "id": "d666c789-8dd7-4511-85a0-9f5fa20c4186",
   "metadata": {},
   "outputs": [],
   "source": []
  },
  {
   "cell_type": "markdown",
   "id": "f89d3a05-f52e-4abc-8a51-243b345395f7",
   "metadata": {},
   "source": [
    "**Question 6. Use focal statistics function on Yield array to create an array which shows the mean yield within 3x3 neighborhood grid cells. Then create a raster map that displays the difference between each grid cell's Yield and \"mean\" Yield of its neighborhood. Plot the original raster, raster with focal statistics applied, and their difference raster as 3 subplots on the same figure.**"
   ]
  },
  {
   "cell_type": "code",
   "execution_count": null,
   "id": "ee6111cb-b0ef-4df1-a572-44d33b523dae",
   "metadata": {},
   "outputs": [],
   "source": []
  },
  {
   "cell_type": "markdown",
   "id": "17679520-f4be-428e-8789-ee414ae00d10",
   "metadata": {},
   "source": [
    "**Question 7. Open `gw_provinces_extra.shp`. Change the CRS of the polygon data to the CRS of the Production raster dataset. Select polygons with `PROVINCE` 1, 2, and 3 for further analysis.** "
   ]
  },
  {
   "cell_type": "code",
   "execution_count": null,
   "id": "dd816a67-2efd-44a4-a44a-72a0412e73af",
   "metadata": {},
   "outputs": [],
   "source": []
  },
  {
   "cell_type": "markdown",
   "id": "8af1336c-b26e-4472-b6e8-7ebba27a0c11",
   "metadata": {},
   "source": [
    "**Question 8. Calculate zonal statistics for selected geometries as `sum` of Production raster. Dissolve `production` column by `PROVINCE`.**"
   ]
  },
  {
   "cell_type": "code",
   "execution_count": null,
   "id": "77f82cf4-9222-4e4c-b8fc-8e9f45549217",
   "metadata": {},
   "outputs": [],
   "source": []
  }
 ],
 "metadata": {
  "kernelspec": {
   "display_name": "Python 3 (ipykernel)",
   "language": "python",
   "name": "python3"
  },
  "language_info": {
   "codemirror_mode": {
    "name": "ipython",
    "version": 3
   },
   "file_extension": ".py",
   "mimetype": "text/x-python",
   "name": "python",
   "nbconvert_exporter": "python",
   "pygments_lexer": "ipython3",
   "version": "3.9.12"
  }
 },
 "nbformat": 4,
 "nbformat_minor": 5
}
