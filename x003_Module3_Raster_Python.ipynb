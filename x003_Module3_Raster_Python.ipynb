{
 "cells": [
  {
   "cell_type": "markdown",
   "id": "f609242d-0ff1-4db9-9342-e1c372f6cb5a",
   "metadata": {},
   "source": [
    "# **Module 3: Raster Data in Python**\n",
    "## Prerequisites\n",
    "### Data\n",
    "- in this example, we will create some raster data to imitate real-world data. We will use `data-module-3` as a workspace.\n",
    "- `ndvi_summer.tif` and `ndvi_winter.tif` - Normalized Difference Vegetation Index (NDVI) for a study area in Kansas. NDVI is an indicator of vegetation health.\n",
    "- `ag_fields.shp` - selected agricultural fields for a study area in Kansas.\n",
    "### Software\n",
    "To execute the code you will need a `conda` environment for Python with the packages imported below."
   ]
  },
  {
   "cell_type": "code",
   "execution_count": null,
   "id": "74329e03-1f19-4c7e-a362-16fc6960880c",
   "metadata": {
    "tags": []
   },
   "outputs": [],
   "source": [
    "import numpy as np\n",
    "from matplotlib import pyplot as plt\n",
    "from rasterio.transform import Affine\n",
    "import rasterio\n",
    "from shapely.geometry.polygon import Polygon\n",
    "import geopandas as gpd\n",
    "import rasterio.mask\n",
    "from rasterstats import zonal_stats\n",
    "from rasterio import features\n",
    "import xarray as xr\n",
    "from xrspatial.convolution import circle_kernel, custom_kernel\n",
    "from xrspatial.focal import focal_stats\n",
    "from xrspatial.zonal import stats\n",
    "from rasterio.plot import plotting_extent\n",
    "from rasterio.enums import Resampling"
   ]
  },
  {
   "cell_type": "markdown",
   "id": "348ae212-fdd8-43af-847b-f145ba73eb29",
   "metadata": {
    "tags": []
   },
   "source": [
    "## Create raster data\n",
    "To generate raster data in Python we use on `numpy` and `rasterio` packages. We need the following three components:\n",
    "- An array of data and the xy coordinates;\n",
    "- A Coordinate Reference System;\n",
    "- A transform defining the coordinate of the upper left hand corner of the array."
   ]
  },
  {
   "cell_type": "code",
   "execution_count": null,
   "id": "d831b8af-0706-450a-b78e-2ce736deaec1",
   "metadata": {
    "tags": []
   },
   "outputs": [],
   "source": [
    "print (\"Generate data\")\n",
    "ras_0 = np.zeros([6, 6])\n",
    "ras_a = np.arange(1, 37).reshape(6, 6)\n",
    "np.random.seed(0)\n",
    "ras_b = np.random.randint(100, size=(6,6))"
   ]
  },
  {
   "cell_type": "code",
   "execution_count": null,
   "id": "0630a199-18ef-4e37-8db3-e4631e9fe788",
   "metadata": {},
   "outputs": [],
   "source": [
    "fig, axs = plt.subplots(1,3, figsize=(15,4))\n",
    "plot0 = axs[0].imshow(ras_0, cmap=\"YlGnBu\")\n",
    "fig.colorbar(plot0, ax=axs[0])\n",
    "axs[0].set_title(\"'Zeros' array\")\n",
    "plot1 = axs[1].imshow(ras_a, cmap=\"YlGnBu\")\n",
    "fig.colorbar(plot1, ax=axs[1])\n",
    "axs[1].set_title(\"ras_a (Consecutive Integers)\")\n",
    "plot2 = axs[2].imshow(ras_b, cmap=\"YlGnBu\")\n",
    "fig.colorbar(plot2, ax=axs[2])\n",
    "axs[2].set_title(\"ras_b (Random Integers)\")"
   ]
  },
  {
   "cell_type": "code",
   "execution_count": null,
   "id": "ef1bcc7a-6ff5-4353-acd9-043f9d8916ee",
   "metadata": {},
   "outputs": [],
   "source": [
    "print (\"Genarate arrays with coordinates\")\n",
    "x = np.linspace(-1.25, 1.25, 6)\n",
    "y = np.linspace(-1.25, 1.25, 6)\n",
    "X, Y = np.meshgrid(x, y)"
   ]
  },
  {
   "cell_type": "code",
   "execution_count": null,
   "id": "c5d3e52d-b506-417a-9e4c-1c51c2b7b6c1",
   "metadata": {},
   "outputs": [],
   "source": [
    "fig, axs = plt.subplots(1,2, figsize=(10,4))\n",
    "plot0 = axs[0].imshow(X, cmap=\"magma_r\", origin=\"lower\")\n",
    "fig.colorbar(plot0, ax=axs[0])\n",
    "axs[0].set_title(\"longitude\")\n",
    "plot1 = axs[1].imshow(Y, cmap=\"magma_r\",origin=\"lower\")\n",
    "fig.colorbar(plot1, ax=axs[1])\n",
    "axs[1].set_title(\"latitude\")"
   ]
  },
  {
   "cell_type": "code",
   "execution_count": null,
   "id": "2a6b75cf-ef52-4070-881e-d8f72e312004",
   "metadata": {},
   "outputs": [],
   "source": [
    "print (\"Define transform and save raster 'ras_a' to a file\")\n",
    "res = 0.5\n",
    "transform = Affine.translation(x[0] - res / 2, -(y[0] - res / 2)) * Affine.scale(res, -res)\n",
    "with rasterio.open(\"./data-module-3/ras_a.tif\",\n",
    "                   \"w\",\n",
    "                   height=ras_a.shape[0],\n",
    "                   width=ras_a.shape[1],\n",
    "                   count=1,\n",
    "                   dtype=np.int16,\n",
    "                   crs=\"epsg:4326\",\n",
    "                   transform=transform,\n",
    "                   nodata=-999\n",
    "                  ) as dst:\n",
    "     dst.write(ras_a, 1)"
   ]
  },
  {
   "cell_type": "markdown",
   "id": "d73ae21f-b1fd-47ae-9d52-d75e0dfdb8ba",
   "metadata": {},
   "source": [
    "## Read raster data from a file"
   ]
  },
  {
   "cell_type": "code",
   "execution_count": null,
   "id": "c1dd0ee4-f049-45f8-8df5-8fc4c6247c2a",
   "metadata": {},
   "outputs": [],
   "source": [
    "ndvi_winter = rasterio.open(\"./data-module-3/ndvi_winter.tif\")\n",
    "ndvi_summer = rasterio.open(\"./data-module-3/ndvi_summer.tif\")\n",
    "print (\"Dataset CRS is {}\".format(ndvi_summer.crs))\n",
    "print (\"Dataset extent is {}\".format(ndvi_summer.bounds))\n",
    "print (\"Dataset resolution is {}\".format(ndvi_summer.res))\n",
    "print (\"Dataset NoData is {}\".format(ndvi_summer.nodata))\n",
    "print (\"Dataset tranform is\")\n",
    "ndvi_summer.transform"
   ]
  },
  {
   "cell_type": "code",
   "execution_count": null,
   "id": "4d86ea48-e2ba-4aeb-859d-6205fd3a36a6",
   "metadata": {},
   "outputs": [],
   "source": [
    "ndvi_winter_array = ndvi_winter.read(1)\n",
    "ndvi_winter_array[ndvi_winter_array==ndvi_winter.nodata] = np.nan\n",
    "ndvi_summer_array = ndvi_summer.read(1)\n",
    "ndvi_summer_array[ndvi_summer_array==ndvi_summer.nodata] = np.nan"
   ]
  },
  {
   "cell_type": "code",
   "execution_count": null,
   "id": "6f62430b-d4d9-4b5d-b5d1-66aa8f410740",
   "metadata": {},
   "outputs": [],
   "source": [
    "fig, axs = plt.subplots(1,2, figsize=(10,4))\n",
    "plot0 = axs[0].imshow(ndvi_winter_array, cmap=\"YlGn\", clim=(0,1))\n",
    "fig.colorbar(plot0, ax=axs[0])\n",
    "axs[0].set_title(\"NDVI winter\")\n",
    "plot1 = axs[1].imshow(ndvi_summer_array, cmap=\"YlGn\",  clim=(0,1))\n",
    "fig.colorbar(plot1, ax=axs[1])\n",
    "axs[1].set_title(\"NDVI summer\")\n",
    "plt.tight_layout()"
   ]
  },
  {
   "cell_type": "markdown",
   "id": "2cefc979-631b-40b1-a19a-6464b62d5ff8",
   "metadata": {},
   "source": [
    "## Describe raster data"
   ]
  },
  {
   "cell_type": "code",
   "execution_count": null,
   "id": "8c5e943e-b1c7-4ed4-b607-066e5617abff",
   "metadata": {},
   "outputs": [],
   "source": [
    "print (\"Number of rows of raster b is {}\".format(ras_b.shape[0]))\n",
    "print (\"Number of colomns of raster b is {}\".format(ras_b.shape[1]))\n",
    "print (\"Number of cells of raster b is {}\".format(ras_b.shape[0]*ras_b.shape[1]))\n",
    "plt.hist(ras_b.flatten(), facecolor=\"grey\", alpha=0.75)"
   ]
  },
  {
   "cell_type": "code",
   "execution_count": null,
   "id": "daabfc7f-fd12-4117-9397-283ecaf13dc1",
   "metadata": {},
   "outputs": [],
   "source": [
    "print (\"Raster unique values are: {}\".format(np.unique(ras_b)))\n",
    "print (\"Get subsets of raster data\")\n",
    "print (\"Value at position 0 col and 0 row {}\".format(ras_b[0,0]))\n",
    "print (\"Value at position 2 col and 2 row {}\".format(ras_b[2,2]))\n",
    "print (\"Array starting from 2 col and 2 row:\")\n",
    "print (ras_b[2:, 2:])"
   ]
  },
  {
   "cell_type": "markdown",
   "id": "f7b0ddfd-78af-4dfb-a57f-a4c91894fbea",
   "metadata": {},
   "source": [
    "## Summarize raster data\n",
    "Below we present some methods to summarize and describe array data with common statistics."
   ]
  },
  {
   "cell_type": "code",
   "execution_count": null,
   "id": "90a563df-fa7c-4372-aca3-034113fa5ee7",
   "metadata": {},
   "outputs": [],
   "source": [
    "print (\"Applying mean() function:\")\n",
    "print (np.mean(ras_a))\n",
    "print (\"Applying mean() function along axis 0:\")\n",
    "print (np.mean(ras_a, axis = 0)) \n",
    "print (\"Applying mean() function along axis 1:\")\n",
    "print (np.mean(ras_a, axis = 1))\n",
    "print (\"Applying median() function:\")\n",
    "print (np.median(ras_a))\n",
    "print (\"Applying max() function:\")\n",
    "print (np.max(ras_a))\n",
    "print (\"Applying min() function:\")\n",
    "print (np.min(ras_a))\n",
    "print (\"Applying std() function:\")\n",
    "print (np.std(ras_a))\n",
    "print (\"Applying percentile() function:\")\n",
    "print (np.percentile(ras_a, 70))"
   ]
  },
  {
   "cell_type": "code",
   "execution_count": null,
   "id": "89371829-dc08-4252-872f-f3732f39a112",
   "metadata": {},
   "outputs": [],
   "source": [
    "print (\"Applying mean() function:\")\n",
    "print (np.mean(ndvi_summer_array))"
   ]
  },
  {
   "cell_type": "code",
   "execution_count": null,
   "id": "2ed891ab-4e46-49e3-90ca-1a200b42f9fc",
   "metadata": {},
   "outputs": [],
   "source": [
    "print (\"Applying nanmean() function:\")\n",
    "print (np.nanmean(ndvi_summer_array))\n",
    "print (\"Applying nanmedian() function:\")\n",
    "print (np.nanmedian(ndvi_summer_array))\n",
    "print (\"Applying nanmax() function:\")\n",
    "print (np.nanmax(ndvi_summer_array))\n",
    "print (\"Applying nanmin() function:\")\n",
    "print (np.nanmin(ndvi_summer_array))\n",
    "print (\"Applying nanstd() function:\")\n",
    "print (np.nanstd(ndvi_summer_array))\n",
    "print (\"Applying nanpercentile() function:\")\n",
    "print (np.nanpercentile(ndvi_summer_array, 70))"
   ]
  },
  {
   "cell_type": "markdown",
   "id": "8c3ea191-a7ea-4763-b288-6a094b7eca53",
   "metadata": {},
   "source": [
    "## <span style=\"color:blue\">Local:</span> Map algebra \n",
    "Below we demonstrate examples of how to use execute a variety of map algebra expressions on one or more arrays."
   ]
  },
  {
   "cell_type": "code",
   "execution_count": null,
   "id": "a8261e1e-61a1-469e-b9cf-70fbc15b717a",
   "metadata": {},
   "outputs": [],
   "source": [
    "X2 =  ras_a*2\n",
    "Sq = ras_a**2\n",
    "ras_a_cap = ras_a.copy()\n",
    "ras_a_cap[ras_a_cap >= 25 ] = 25\n",
    "ratio = ras_b/ras_a\n",
    "mean = (X2+Sq)/2"
   ]
  },
  {
   "cell_type": "code",
   "execution_count": null,
   "id": "dfa3c414-eee9-4893-87cb-f30f6e1c8d1e",
   "metadata": {},
   "outputs": [],
   "source": [
    "fig, axs = plt.subplots(1,5, figsize=(16,3))\n",
    "plot0 = axs[0].imshow(X2, cmap=\"PiYG\")\n",
    "fig.colorbar(plot0, ax=axs[0])\n",
    "axs[0].set_title(\"ras_a doubled\")\n",
    "plot1 = axs[1].imshow(Sq, cmap=\"PiYG\")\n",
    "fig.colorbar(plot1, ax=axs[1])\n",
    "axs[1].set_title(\"ras_a squared\")\n",
    "plot2 = axs[2].imshow(ras_a_cap, cmap=\"PiYG\")\n",
    "fig.colorbar(plot2, ax=axs[2])\n",
    "axs[2].set_title(\"ras_a capped at 25\")\n",
    "plot3 = axs[3].imshow(ratio, cmap=\"PiYG\")\n",
    "fig.colorbar(plot3, ax=axs[3])\n",
    "axs[3].set_title(\"Ratio of ras_b to ras_a\")\n",
    "plot4 = axs[4].imshow(mean, cmap=\"PiYG\")\n",
    "fig.colorbar(plot4, ax=axs[4])\n",
    "axs[4].set_title(\"Mean of doubled/squared\")\n",
    "plt.tight_layout()"
   ]
  },
  {
   "cell_type": "code",
   "execution_count": null,
   "id": "69121d8a-b614-4739-8ff9-b18f98e8daeb",
   "metadata": {},
   "outputs": [],
   "source": [
    "ndvi_diff_array = ndvi_summer_array - ndvi_winter_array"
   ]
  },
  {
   "cell_type": "code",
   "execution_count": null,
   "id": "420cfd13-7259-4f3c-9dcd-830caa1776aa",
   "metadata": {},
   "outputs": [],
   "source": [
    "fig, axs = plt.subplots(1,3, figsize=(15,4))\n",
    "plot0 = axs[0].imshow(ndvi_winter_array, cmap=\"YlGn\", clim=(0,1))\n",
    "fig.colorbar(plot0, ax=axs[0])\n",
    "axs[0].set_title(\"NDVI winter\")\n",
    "plot1 = axs[1].imshow(ndvi_summer_array, cmap=\"YlGn\",  clim=(0,1))\n",
    "fig.colorbar(plot1, ax=axs[1])\n",
    "axs[1].set_title(\"NDVI summer\")\n",
    "plot2 = axs[2].imshow(ndvi_diff_array, cmap=\"coolwarm\")\n",
    "fig.colorbar(plot2, ax=axs[2])\n",
    "axs[2].set_title(\"NDVI difference\")\n",
    "plt.tight_layout()"
   ]
  },
  {
   "cell_type": "markdown",
   "id": "7d935463-06af-4853-acad-61340672cf21",
   "metadata": {},
   "source": [
    "## <span style=\"color:blue\">Local:</span> Reclassify array data\n",
    "Reclassification allows to reassign one or more values in a raster dataset to new output values."
   ]
  },
  {
   "cell_type": "code",
   "execution_count": null,
   "id": "cbff26ed-7ed2-4c45-a532-da80468f31a6",
   "metadata": {},
   "outputs": [],
   "source": [
    "reclassified = ras_a.copy()\n",
    "reclassified[(reclassified > 0) & (reclassified <= 12)] = 1\n",
    "reclassified[(reclassified > 12) & (reclassified <= 24)] = 2\n",
    "reclassified[(reclassified > 24) & (reclassified <= 37)] = 3"
   ]
  },
  {
   "cell_type": "code",
   "execution_count": null,
   "id": "607b1562-c620-43eb-8439-893ede73fa18",
   "metadata": {},
   "outputs": [],
   "source": [
    "fig, axs = plt.subplots(1,2, figsize=(10,4))\n",
    "plot0 = axs[0].imshow(ras_a, cmap=\"YlGnBu\")\n",
    "fig.colorbar(plot0, ax=axs[0])\n",
    "axs[0].set_title(\"ras_a\")\n",
    "plot1 = axs[1].imshow(reclassified, cmap=\"YlGnBu\")\n",
    "fig.colorbar(plot1, ax=axs[1])\n",
    "axs[1].set_title(\"ras_a reclassified\")\n",
    "plt.tight_layout()"
   ]
  },
  {
   "cell_type": "markdown",
   "id": "351d7f2f-f634-4cab-8d9e-0488567ed23a",
   "metadata": {},
   "source": [
    "## <span style=\"color:blue\">Focal:</span> Resample to a coarser resolution"
   ]
  },
  {
   "cell_type": "code",
   "execution_count": null,
   "id": "44d7fc90-623f-453a-bfd1-130431287848",
   "metadata": {},
   "outputs": [],
   "source": [
    "scale_factor = 1/2\n",
    "with rasterio.open(\"./data-module-3/ras_a.tif\") as dataset:\n",
    "    data = dataset.read(\n",
    "        out_shape=(\n",
    "            dataset.count,\n",
    "            int(dataset.height * scale_factor),\n",
    "            int(dataset.width * scale_factor)\n",
    "        ),\n",
    "        resampling=Resampling.nearest\n",
    "    )\n",
    "    transform = dataset.transform * dataset.transform.scale(\n",
    "        (dataset.width / data.shape[-1]),\n",
    "        (dataset.height / data.shape[-2])\n",
    "    )\n",
    "aggregated = data[0]"
   ]
  },
  {
   "cell_type": "code",
   "execution_count": null,
   "id": "f990bf52-ad33-48e4-b71f-5983f02f76ab",
   "metadata": {},
   "outputs": [],
   "source": [
    "fig, axs = plt.subplots(1,2, figsize=(10,4))\n",
    "plot0 = axs[0].imshow(ras_a, cmap=\"coolwarm\")\n",
    "fig.colorbar(plot0, ax=axs[0])\n",
    "axs[0].set_title(\"ras_a original\")\n",
    "plot1 = axs[1].imshow(aggregated, cmap=\"coolwarm\")\n",
    "fig.colorbar(plot1, ax=axs[1])\n",
    "axs[1].set_title(\"2x2 block-sum aggregated\")\n",
    "plt.tight_layout()"
   ]
  },
  {
   "cell_type": "code",
   "execution_count": null,
   "id": "0e1b7073-0bb5-4153-aa5e-72b68dcadfb7",
   "metadata": {},
   "outputs": [],
   "source": [
    "scale_factor = 1/10\n",
    "with rasterio.open(\"./data-module-3/ndvi_summer.tif\") as dataset:\n",
    "    data = dataset.read(\n",
    "        out_shape=(\n",
    "            dataset.count,\n",
    "            int(dataset.height * scale_factor),\n",
    "            int(dataset.width * scale_factor)\n",
    "        ),\n",
    "        resampling=Resampling.nearest\n",
    "    )\n",
    "    transform = dataset.transform * dataset.transform.scale(\n",
    "        (dataset.width / data.shape[-1]),\n",
    "        (dataset.height / data.shape[-2])\n",
    "    )\n",
    "aggregated = data[0]"
   ]
  },
  {
   "cell_type": "code",
   "execution_count": null,
   "id": "856f7fef-ff53-4127-82db-9d230f8d1442",
   "metadata": {},
   "outputs": [],
   "source": [
    "fig, axs = plt.subplots(1,2, figsize=(10,4))\n",
    "plot0 = axs[0].imshow(ndvi_summer_array,  cmap=\"YlGn\", clim=(0,1))\n",
    "fig.colorbar(plot0, ax=axs[0])\n",
    "axs[0].set_title(\"NDVI original\")\n",
    "plot1 = axs[1].imshow(aggregated,  cmap=\"YlGn\", clim=(0,1))\n",
    "fig.colorbar(plot1, ax=axs[1])\n",
    "axs[1].set_title(\"NDVI 2x2 block-sum aggregated\")\n",
    "plt.tight_layout()"
   ]
  },
  {
   "cell_type": "markdown",
   "id": "19a681f1-0e1b-491c-a58e-9b6662b35f4c",
   "metadata": {},
   "source": [
    "## <span style=\"color:blue\">Focal:</span> Resample to a higher resolution"
   ]
  },
  {
   "cell_type": "code",
   "execution_count": null,
   "id": "e40a8b66-6c32-4014-860d-05f491b5e5d8",
   "metadata": {},
   "outputs": [],
   "source": [
    "scale_factor = 2\n",
    "with rasterio.open(\"./data-module-3/ras_a.tif\") as dataset:\n",
    "    data = dataset.read(\n",
    "        out_shape=(\n",
    "            dataset.count,\n",
    "            int(dataset.height * scale_factor),\n",
    "            int(dataset.width * scale_factor)\n",
    "        ),\n",
    "        resampling=Resampling.nearest\n",
    "    )\n",
    "    transform = dataset.transform * dataset.transform.scale(\n",
    "        (dataset.width / data.shape[-1]),\n",
    "        (dataset.height / data.shape[-2])\n",
    "    )\n",
    "resampled_n = data[0]\n",
    "\n",
    "with rasterio.open(\"./data-module-3/ras_a.tif\") as dataset:\n",
    "    data = dataset.read(\n",
    "        out_shape=(\n",
    "            dataset.count,\n",
    "            int(dataset.height * scale_factor),\n",
    "            int(dataset.width * scale_factor)\n",
    "        ),\n",
    "        resampling=Resampling.bilinear\n",
    "    )\n",
    "    transform = dataset.transform * dataset.transform.scale(\n",
    "        (dataset.width / data.shape[-1]),\n",
    "        (dataset.height / data.shape[-2])\n",
    "    )\n",
    "resampled_b = data[0]"
   ]
  },
  {
   "cell_type": "code",
   "execution_count": null,
   "id": "c17cb5e7-378e-4c58-bf9b-10821847b57e",
   "metadata": {},
   "outputs": [],
   "source": [
    "fig, axs = plt.subplots(1,3, figsize=(12,4))\n",
    "plot0 = axs[0].imshow(ras_a, cmap=\"coolwarm\")\n",
    "fig.colorbar(plot0, ax=axs[0])\n",
    "axs[0].set_title(\"ras_a original\")\n",
    "plot0 = axs[1].imshow(resampled_n, cmap=\"coolwarm\")\n",
    "fig.colorbar(plot0, ax=axs[1])\n",
    "axs[1].set_title(\"ras_a: nearest resamling\")\n",
    "plot1 = axs[2].imshow(resampled_b, cmap=\"coolwarm\")\n",
    "fig.colorbar(plot1, ax=axs[2])\n",
    "axs[2].set_title(\"ras_a: bilinear resampling\")\n",
    "plt.tight_layout()"
   ]
  },
  {
   "cell_type": "markdown",
   "id": "09167bc3-7c8d-4fc0-8ef2-628d8cca76b2",
   "metadata": {},
   "source": [
    "## <span style=\"color:blue\">Focal:</span> Apply focal statistics\n",
    "Focal statistics calculates a statistic for input cells with a set of overlapping windows or neighborhoods defined as `kernel`. Please note that we use `xarray` and `xarray-spatial` packages to perfrom these operations."
   ]
  },
  {
   "cell_type": "code",
   "execution_count": null,
   "id": "60ed6666-ea66-4405-9a69-659abb6aa0d6",
   "metadata": {},
   "outputs": [],
   "source": [
    "ras_b_xr =  xr.DataArray(ras_b, dims=[\"y\", \"x\"], name=\"b\")\n",
    "ras_b_xr"
   ]
  },
  {
   "cell_type": "code",
   "execution_count": null,
   "id": "84341be9-8269-4e00-8513-15c67759fc67",
   "metadata": {},
   "outputs": [],
   "source": [
    "ds = xr.Dataset(data_vars=dict(a = ([\"y\", \"x\"], ras_a), b = ([\"y\", \"x\"], ras_b)), \n",
    "                attrs=dict(description=\"Data we generated\"))\n",
    "ds"
   ]
  },
  {
   "cell_type": "code",
   "execution_count": null,
   "id": "156bd01b-fa42-49f7-a6b4-21f6c388315c",
   "metadata": {},
   "outputs": [],
   "source": [
    "kernel1 = circle_kernel(1,1,1)\n",
    "kernel2 = np.ones([3,3])\n",
    "focal1 = focal_stats(ras_b_xr, kernel1, stats_funcs=[\"min\"])[0]\n",
    "focal2 = focal_stats(ras_b_xr, kernel2, stats_funcs=[\"min\"])[0]"
   ]
  },
  {
   "cell_type": "code",
   "execution_count": null,
   "id": "f283b70c-fa71-4e1b-8095-343c2bd43b8c",
   "metadata": {},
   "outputs": [],
   "source": [
    "fig, axs = plt.subplots(1,3, figsize=(15,4))\n",
    "plot0 = axs[0].imshow(ras_b, cmap=\"coolwarm\")\n",
    "fig.colorbar(plot0, ax=axs[0])\n",
    "axs[0].set_title(\"ras_b original\")\n",
    "plot1 = axs[1].imshow(focal1, cmap=\"coolwarm\") \n",
    "fig.colorbar(plot1, ax=axs[1])\n",
    "axs[1].set_title(\"min focal wtih circle kernel\")\n",
    "plot2 = axs[2].imshow(focal2, cmap=\"coolwarm\") \n",
    "fig.colorbar(plot2, ax=axs[2])\n",
    "axs[2].set_title(\"min focal wtih custom kernel\")\n",
    "plt.tight_layout()"
   ]
  },
  {
   "cell_type": "code",
   "execution_count": null,
   "id": "49b58177-58bf-4a9c-9057-d492ab1fb6e3",
   "metadata": {},
   "outputs": [],
   "source": [
    "ndvi_summer_xr =  xr.DataArray(ndvi_summer_array, dims=[\"y\", \"x\"], name=\"ndvi_summer\")\n",
    "kernel = np.ones([15,15])\n",
    "ndvi_summer_xr_focal = focal_stats(ndvi_summer_xr, kernel, stats_funcs=[\"mean\"])[0]\n",
    "difference  = ndvi_summer_xr - ndvi_summer_xr_focal"
   ]
  },
  {
   "cell_type": "code",
   "execution_count": null,
   "id": "bb24df24-ef48-4996-b4a8-a72ce65addef",
   "metadata": {},
   "outputs": [],
   "source": [
    "fig, axs = plt.subplots(1,3, figsize=(15,4))\n",
    "plot0 = axs[0].imshow(ndvi_summer_xr, cmap=\"YlGn\", clim=(0,1))\n",
    "fig.colorbar(plot0, ax=axs[0])\n",
    "axs[0].set_title(\"NDVI summer original\")\n",
    "plot1 = axs[1].imshow(ndvi_summer_xr_focal, cmap=\"YlGn\", clim=(0,1)) \n",
    "fig.colorbar(plot1, ax=axs[1])\n",
    "axs[1].set_title(\"NDVI summer Mean focal\")\n",
    "plot2 = axs[2].imshow(difference, cmap=\"magma\") \n",
    "fig.colorbar(plot2, ax=axs[2])\n",
    "axs[2].set_title(\"Difference between original and focal\")\n",
    "plt.tight_layout()"
   ]
  },
  {
   "cell_type": "markdown",
   "id": "c713b110-7e58-44e0-b9cc-00b3e3f0a78d",
   "metadata": {},
   "source": [
    "## <span style=\"color:blue\">Zonal:</span> Summarize array by another array\n",
    "Here we show how to calculate summary statistics for each zone defined by a `zones` dataset, based on `values` array."
   ]
  },
  {
   "cell_type": "code",
   "execution_count": null,
   "id": "bd16f46c-ca99-4e8e-b0dc-26f46ac635c1",
   "metadata": {},
   "outputs": [],
   "source": [
    "print (\"Create 'zones' array\")\n",
    "np.random.seed(0)\n",
    "categorical = np.random.randint(1,4, size=(6,6))\n",
    "plt.imshow(categorical)\n",
    "plt.colorbar(ticks=[1,2,3])"
   ]
  },
  {
   "cell_type": "code",
   "execution_count": null,
   "id": "23289b75-a595-409f-b5c1-a8443190848e",
   "metadata": {},
   "outputs": [],
   "source": [
    "values = xr.DataArray(ras_a)\n",
    "zones = xr.DataArray(categorical)\n",
    "stats_df = stats(zones=zones, values=values)\n",
    "stats_df"
   ]
  },
  {
   "cell_type": "markdown",
   "id": "5234b0f7-0ba4-4f30-850d-a4375e463e30",
   "metadata": {},
   "source": [
    "## <span style=\"color:blue\">Zonal:</span> Extract by vector geometries (raster-vector interactions)"
   ]
  },
  {
   "cell_type": "code",
   "execution_count": null,
   "id": "11d5768f-870f-4bd6-9a9e-2946731f02de",
   "metadata": {},
   "outputs": [],
   "source": [
    "print (\"Create arbitrary polygon\")\n",
    "polygon = Polygon([(0, 1.5), (0, 0), (1, 0), (1, -1), (-1, -1), (-1, 1.5)])\n",
    "gdf = gpd.GeoDataFrame(index=[0], crs=\"epsg:4326\", geometry=[polygon])\n",
    "gdf.plot(facecolor=\"none\", edgecolor=\"blue\")\n",
    "gdf.to_file(\"./data-module-3/pol.shp\")"
   ]
  },
  {
   "cell_type": "code",
   "execution_count": null,
   "id": "733d5c30-7020-47de-9b22-49c81b1f172b",
   "metadata": {},
   "outputs": [],
   "source": [
    "print (\"Extract raster by polygon\")\n",
    "with rasterio.open(\"./data-module-3/ras_a.tif\") as src:\n",
    "    out_img, out_transform = rasterio.mask.mask(dataset=src, shapes=gdf[\"geometry\"], \n",
    "                                                nodata=src.nodata, indexes=1, filled=False)\n",
    "    ras_a_masked = out_img\n",
    "plt.imshow(ras_a_masked, cmap=\"YlGnBu\")\n",
    "plt.colorbar()"
   ]
  },
  {
   "cell_type": "markdown",
   "id": "5993de8b-26eb-4c10-ab1a-695697e439b7",
   "metadata": {},
   "source": [
    "## <span style=\"color:blue\">Zonal:</span> Summarize by vector geometries (raster-vector interactions)"
   ]
  },
  {
   "cell_type": "code",
   "execution_count": null,
   "id": "472b58eb-a2da-4735-a431-9d1211bc0fb9",
   "metadata": {},
   "outputs": [],
   "source": [
    "print (\"Summarize raster data by polygon shape\")\n",
    "with rasterio.open( \"./data-module-3/ras_a.tif\") as src:\n",
    "    ras_a = src.read(1)\n",
    "    zs = zonal_stats(gdf, ras_a, affine=src.transform, nodata=src.nodata, \n",
    "                     stats = [\"mean\",  \"count\", \"sum\", \"std\", \"median\", \"majority\", \"minority\", \"range\"])\n",
    "print (zs)"
   ]
  },
  {
   "cell_type": "code",
   "execution_count": null,
   "id": "04b4a0dd-743a-4544-9af0-7d262c79bc11",
   "metadata": {},
   "outputs": [],
   "source": [
    "print (\"Rasterize polygon to a raster\")\n",
    "rasterized = features.rasterize(gdf[\"geometry\"],\n",
    "                                out_shape = ras_a.shape,\n",
    "                                transform = src.transform,\n",
    "                                all_touched = False,\n",
    "                                default_value = zs[0][\"sum\"],\n",
    "                                fill = 0)\n",
    "print (rasterized)"
   ]
  },
  {
   "cell_type": "code",
   "execution_count": null,
   "id": "322f9911-bca2-403a-abcb-4a67fae96dbe",
   "metadata": {},
   "outputs": [],
   "source": [
    "fields_gdf = gpd.read_file(\"./data-module-3/ag_fields.shp\")"
   ]
  },
  {
   "cell_type": "code",
   "execution_count": null,
   "id": "19e91afc-daf5-4256-8144-6640e5be447c",
   "metadata": {},
   "outputs": [],
   "source": [
    "plot_extent = plotting_extent(ndvi_winter_array, ndvi_winter.transform)\n",
    "fig, axs = plt.subplots(1,2, figsize=(10,4))\n",
    "fields_gdf.plot(ax=axs[0], facecolor=\"none\", edgecolor=\"blue\", linewidth=2)\n",
    "plot0 = axs[0].imshow(ndvi_winter_array, cmap=\"YlGn\", clim=(0,1), extent=plot_extent)\n",
    "fig.colorbar(plot0, ax=axs[0])\n",
    "axs[0].set_title(\"NDVI winter\")\n",
    "fields_gdf.plot(ax=axs[1], facecolor=\"none\", edgecolor=\"blue\", linewidth=2)\n",
    "plot1 = axs[1].imshow(ndvi_summer_array, cmap=\"YlGn\",  clim=(0,1), extent=plot_extent)\n",
    "fig.colorbar(plot1, ax=axs[1])\n",
    "axs[1].set_title(\"NDVI summer\")\n",
    "plt.tight_layout()"
   ]
  },
  {
   "cell_type": "code",
   "execution_count": null,
   "id": "615bd13a-4bd4-4c7b-b72a-f9001564ecfa",
   "metadata": {},
   "outputs": [],
   "source": [
    "stats_gdf = fields_gdf.copy()\n",
    "stats_gdf[\"ndvi_winter\"] = stats_gdf.apply(lambda x: zonal_stats(x.geometry, ndvi_winter_array, affine=ndvi_winter.transform, \n",
    "                                                         nodata=ndvi_winter.nodata, stats =[\"mean\"])[0][\"mean\"], axis=1)\n",
    "stats_gdf[\"ndvi_summer\"] = stats_gdf.apply(lambda x: zonal_stats(x.geometry, ndvi_summer_array, affine=ndvi_summer.transform, \n",
    "                                                         nodata=ndvi_summer.nodata, stats =[\"mean\"])[0][\"mean\"], axis=1)\n",
    "stats_gdf"
   ]
  },
  {
   "cell_type": "code",
   "execution_count": null,
   "id": "c8b76f68-2319-4a76-99f9-5e2b1074240f",
   "metadata": {},
   "outputs": [],
   "source": [
    "geom_value = ((geom, value) for geom, value in zip(stats_gdf.geometry, stats_gdf[\"ndvi_summer\"]))\n",
    "rasterized = features.rasterize(geom_value,\n",
    "                               out_shape=ndvi_summer_array.shape,\n",
    "                               transform=ndvi_summer.transform,\n",
    "                               fill=np.nan,\n",
    "                               all_touched=True)"
   ]
  },
  {
   "cell_type": "code",
   "execution_count": null,
   "id": "2cd3546a-52e5-4c4a-b8fe-45e34d65d016",
   "metadata": {},
   "outputs": [],
   "source": [
    "fig, ax = plt.subplots(figsize = (14,5))\n",
    "plot_extent = plotting_extent(rasterized, ndvi_summer.transform)\n",
    "stats_gdf.plot(ax=ax, facecolor=\"none\", edgecolor=\"blue\", linewidth=2)\n",
    "plot0 = ax.imshow(rasterized, cmap=\"YlGn\", clim=(0,1), extent=plot_extent)\n",
    "fig.colorbar(plot0, ax=ax)\n",
    "ax.set_title(\"Average NDVI in selected fields\")"
   ]
  },
  {
   "cell_type": "markdown",
   "id": "999c7a71-d84c-4224-8359-e0d8bf58a56c",
   "metadata": {},
   "source": [
    "## **Exercises**\n",
    "Your expercises will draw on datasets from the Spatial Production Allocation Model (SPAM) and Minnesota Geospatial Commons, which have been downloaded, cleaned, transformed, and saved to the directory `./data-module-3/` for this workshop.\n",
    "### Data\n",
    "- `spam_H_MAIZ_A_mn.tif` (crop harvested area), `spam_P_MAIZ_A_mn.tif` (crop production) - agricultural indicators at 10x10km grid-cell resolution from MAPSPAM (Spatial Production Allocation Model) data center  https://www.mapspam.info/data/\n",
    "- `gw_provinces_extra.shp` - Groundwater Provinces of Minnesota derived from  https://gisdata.mn.gov/dataset/geos-groundwater-provinces-mn"
   ]
  },
  {
   "cell_type": "markdown",
   "id": "451ed3a4-3c0f-4234-9a4a-b8a52eab68d2",
   "metadata": {},
   "source": [
    "**Question 1. Open raster files `spam_H_MAIZ_A_mn.tif` and `spam_P_MAIZ_A_mn.tif` and check their properties: Coordinate Reference System, extent, resolution, NoData, and transform .** "
   ]
  },
  {
   "cell_type": "code",
   "execution_count": null,
   "id": "d211740c-85b8-4acd-b0b1-54a006ae4895",
   "metadata": {},
   "outputs": [],
   "source": []
  },
  {
   "cell_type": "markdown",
   "id": "b420fe6a-bd28-4ae9-9b1b-4c416d6e6ca2",
   "metadata": {},
   "source": [
    "**Question 2. Read datasets from the previous question as arrays, reset NoData values, and plot them.**"
   ]
  },
  {
   "cell_type": "code",
   "execution_count": null,
   "id": "2864e55c-6532-42de-9693-7a7d4bbc7920",
   "metadata": {},
   "outputs": [],
   "source": []
  },
  {
   "cell_type": "markdown",
   "id": "6414c8aa-1e74-4a60-94b9-7bf9860b7e6d",
   "metadata": {},
   "source": [
    "**Question 3. Calculate a ratio of Production raster to Harvested Area to create an array Yield. Find statistics: maximum Yield and its standard deviation.**"
   ]
  },
  {
   "cell_type": "code",
   "execution_count": null,
   "id": "c764efcf-1acd-432b-a145-e926e40a0455",
   "metadata": {},
   "outputs": [],
   "source": []
  },
  {
   "cell_type": "markdown",
   "id": "3aae4827-3cf5-485d-bf50-4bdbde30dc72",
   "metadata": {},
   "source": [
    "**Question 4. Reclassify Yield array by using 3 categories (make your own breaks). Plot both for comparison.**"
   ]
  },
  {
   "cell_type": "code",
   "execution_count": null,
   "id": "bf8067a7-791a-4778-9143-118584901064",
   "metadata": {},
   "outputs": [],
   "source": []
  },
  {
   "cell_type": "markdown",
   "id": "183e29aa-d04f-49e7-a45f-f057271ec253",
   "metadata": {},
   "source": [
    "**Question 5: Resample Production raster to a coarser resolution. Plot both for comparison**"
   ]
  },
  {
   "cell_type": "code",
   "execution_count": null,
   "id": "d666c789-8dd7-4511-85a0-9f5fa20c4186",
   "metadata": {},
   "outputs": [],
   "source": []
  },
  {
   "cell_type": "markdown",
   "id": "f89d3a05-f52e-4abc-8a51-243b345395f7",
   "metadata": {},
   "source": [
    "**Question 6. Use focal statistics function on Yield array to create an array which shows the mean yield within 3x3 neighborhood grid cells. Then create a raster map that displays the difference between each grid cell's Yield and \"mean\" Yield of its neighborhood. Plot the original raster, raster with focal statistics applied, and their difference raster as 3 subplots on the same figure.**"
   ]
  },
  {
   "cell_type": "code",
   "execution_count": null,
   "id": "ee6111cb-b0ef-4df1-a572-44d33b523dae",
   "metadata": {},
   "outputs": [],
   "source": []
  },
  {
   "cell_type": "markdown",
   "id": "17679520-f4be-428e-8789-ee414ae00d10",
   "metadata": {},
   "source": [
    "**Question 7. Open `gw_provinces_extra.shp`. Change the CRS of the polygon data to the CRS of the Production raster dataset. Select polygons with `PROVINCE` 1, 2, and 3 for further analysis.** "
   ]
  },
  {
   "cell_type": "code",
   "execution_count": null,
   "id": "dd816a67-2efd-44a4-a44a-72a0412e73af",
   "metadata": {},
   "outputs": [],
   "source": []
  },
  {
   "cell_type": "markdown",
   "id": "8af1336c-b26e-4472-b6e8-7ebba27a0c11",
   "metadata": {},
   "source": [
    "**Question 8. Calculate zonal statistics for selected geometries as `sum` of Production raster. Dissolve `production` column by `PROVINCE`.**"
   ]
  },
  {
   "cell_type": "code",
   "execution_count": null,
   "id": "77f82cf4-9222-4e4c-b8fc-8e9f45549217",
   "metadata": {},
   "outputs": [],
   "source": []
  },
  {
   "cell_type": "markdown",
   "id": "49fb7026-d2b6-4c5c-9fa8-4607e04f9654",
   "metadata": {},
   "source": [
    "**Question 9. Rasterize your `GeoDataFrame` by `production` column. Plot the array.**"
   ]
  },
  {
   "cell_type": "code",
   "execution_count": null,
   "id": "c912c415-1958-4370-a916-4c17b5fc33da",
   "metadata": {},
   "outputs": [],
   "source": []
  }
 ],
 "metadata": {
  "kernelspec": {
   "display_name": "Python 3 (ipykernel)",
   "language": "python",
   "name": "python3"
  },
  "language_info": {
   "codemirror_mode": {
    "name": "ipython",
    "version": 3
   },
   "file_extension": ".py",
   "mimetype": "text/x-python",
   "name": "python",
   "nbconvert_exporter": "python",
   "pygments_lexer": "ipython3",
   "version": "3.11.0"
  }
 },
 "nbformat": 4,
 "nbformat_minor": 5
}
