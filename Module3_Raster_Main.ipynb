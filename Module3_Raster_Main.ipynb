{
 "cells": [
  {
   "cell_type": "markdown",
   "id": "f609242d-0ff1-4db9-9342-e1c372f6cb5a",
   "metadata": {},
   "source": [
    "# **Module 3: Raster Data in Python**"
   ]
  },
  {
   "cell_type": "markdown",
   "id": "7721ce72-9e96-40c2-a1e3-bc1d24ffb790",
   "metadata": {},
   "source": [
    "#### Data\n",
    "In this example, we will create some raster data to imitate real-world data. We will use `data-module-3` as a workspace. We have also prepared the following datasets:\n",
    "- `ndvi_summer.tif` and `ndvi_winter.tif` - Normalized Difference Vegetation Index (NDVI) for a study area in Kansas. NDVI is an indicator of vegetation health. Data was acquired by Landsat 8 and exported from Climate Engine at http://climateengine.org.\n",
    "- `ag_fields.shp` - selected agricultural fields for a study area in Kansas.\n",
    "- `friction_mali.tif` - a friction surface that quanitfies travel cost for a sample study area in Mali.\n",
    "\n",
    "#### Software\n",
    "To execute the code you will need a Python environment with the packages imported below. The default environment does not have all required packages to execute this script. Therefore, run the following command beforehand:\n",
    "- `pip install xarray xarray-spatial --user`"
   ]
  },
  {
   "cell_type": "code",
   "execution_count": null,
   "id": "aaa64f09-6689-412d-8fad-117a59850a11",
   "metadata": {},
   "outputs": [],
   "source": [
    "import numpy as np\n",
    "import matplotlib.pyplot as plt\n",
    "import rasterio\n",
    "from rasterio.transform import Affine\n",
    "from rasterio.plot import plotting_extent\n",
    "from rasterio.enums import Resampling\n",
    "from rasterstats import zonal_stats\n",
    "import xarray as xr\n",
    "from xrspatial.convolution import circle_kernel\n",
    "import xrspatial.zonal, xrspatial.focal\n",
    "import geopandas as gpd\n",
    "import skimage.graph as graph"
   ]
  },
  {
   "cell_type": "markdown",
   "id": "348ae212-fdd8-43af-847b-f145ba73eb29",
   "metadata": {
    "tags": []
   },
   "source": [
    "### **Raster Data Review**"
   ]
  },
  {
   "cell_type": "markdown",
   "id": "52e7e8df-de6b-4a8e-9f29-4b3e226895d9",
   "metadata": {},
   "source": [
    "#### Create a raster\n",
    "\n",
    "To generate raster data in Python we rely on `numpy` and `rasterio` packages. We need the following three components:\n",
    "- An array of data and the xy coordinates;\n",
    "- A Coordinate Reference System;\n",
    "- A transform defining the coordinate of the upper left hand corner of the array."
   ]
  },
  {
   "cell_type": "code",
   "execution_count": null,
   "id": "1792ddf1-99ae-48ef-85e9-4e7e427edf04",
   "metadata": {
    "tags": []
   },
   "outputs": [],
   "source": [
    "ras_0 = np.zeros([6, 6])\n",
    "\n",
    "ras_a = np.arange(1, 37).reshape(6, 6)\n",
    "\n",
    "np.random.seed(0)\n",
    "ras_b = np.random.randint(100, size=(6,6))"
   ]
  },
  {
   "cell_type": "code",
   "execution_count": null,
   "id": "5bb82fe9-9d1b-4522-bdf6-267dbd3250e0",
   "metadata": {},
   "outputs": [],
   "source": [
    "fig, axs = plt.subplots(1,3, figsize=(15,4), tight_layout=True)\n",
    "\n",
    "plot0 = axs[0].imshow(ras_0, cmap=\"YlGnBu\")\n",
    "fig.colorbar(plot0, ax=axs[0])\n",
    "axs[0].set_title(\"'Zeros' array\")\n",
    "\n",
    "plot1 = axs[1].imshow(ras_a, cmap=\"YlGnBu\")\n",
    "fig.colorbar(plot1, ax=axs[1])\n",
    "axs[1].set_title(\"ras_a (Consecutive Integers)\")\n",
    "\n",
    "plot2 = axs[2].imshow(ras_b, cmap=\"YlGnBu\")\n",
    "fig.colorbar(plot2, ax=axs[2])\n",
    "axs[2].set_title(\"ras_b (Random Integers)\")\n",
    "\n",
    "plt.show()"
   ]
  },
  {
   "cell_type": "code",
   "execution_count": null,
   "id": "25b41c56-b38a-4e38-a47d-4da5506ae77a",
   "metadata": {},
   "outputs": [],
   "source": [
    "x = np.linspace(-1.25, 1.25, 6)\n",
    "y = np.linspace(-1.25, 1.25, 6)\n",
    "X, Y = np.meshgrid(x, y)"
   ]
  },
  {
   "cell_type": "code",
   "execution_count": null,
   "id": "02bc39d3-9c50-4770-9898-2e8c68f5a7ab",
   "metadata": {},
   "outputs": [],
   "source": [
    "fig, axs = plt.subplots(1,2, figsize=(10,4),  tight_layout=True)\n",
    "\n",
    "plot0 = axs[0].imshow(X, cmap=\"magma_r\", origin=\"lower\")\n",
    "fig.colorbar(plot0, ax=axs[0])\n",
    "axs[0].set_title(\"longitude\")\n",
    "\n",
    "plot1 = axs[1].imshow(Y, cmap=\"magma_r\",origin=\"lower\")\n",
    "fig.colorbar(plot1, ax=axs[1])\n",
    "axs[1].set_title(\"latitude\")\n",
    "\n",
    "plt.show()"
   ]
  },
  {
   "cell_type": "code",
   "execution_count": null,
   "id": "6bfff7cb-37ec-4b2d-8394-4d568fdf5573",
   "metadata": {},
   "outputs": [],
   "source": [
    "res = 0.5\n",
    "transform = Affine.translation(x[0] - res / 2, -(y[0] - res / 2)) * Affine.scale(res, -res)\n",
    "\n",
    "with rasterio.open(\"./data-module-3/ras_a.tif\",\n",
    "                   \"w\",\n",
    "                   height=ras_a.shape[0],\n",
    "                   width=ras_a.shape[1],\n",
    "                   count=1,\n",
    "                   dtype=np.int16,\n",
    "                   crs=\"epsg:4326\",\n",
    "                   transform=transform,\n",
    "                   nodata=-999\n",
    "                  ) as dst:\n",
    "     dst.write(ras_a, 1)"
   ]
  },
  {
   "cell_type": "markdown",
   "id": "d73ae21f-b1fd-47ae-9d52-d75e0dfdb8ba",
   "metadata": {},
   "source": [
    "#### Read raster data from a file"
   ]
  },
  {
   "cell_type": "code",
   "execution_count": null,
   "id": "ebe4e60f-52b9-43ca-aa27-59246294a0be",
   "metadata": {},
   "outputs": [],
   "source": [
    "ndvi_winter = rasterio.open(\"./data-module-3/ndvi_winter.tif\")\n",
    "ndvi_summer = rasterio.open(\"./data-module-3/ndvi_summer.tif\")\n",
    "\n",
    "print (f\"Dataset CRS is {ndvi_summer.crs}\")\n",
    "print (f\"Dataset extent is {ndvi_summer.bounds}\")\n",
    "print (f\"Dataset resolution is {ndvi_summer.res}\")\n",
    "print (f\"Dataset NoData is {ndvi_summer.nodata}\")\n",
    "print(\"Dataset transform is below\")\n",
    "ndvi_summer.transform"
   ]
  },
  {
   "cell_type": "markdown",
   "id": "035a22e3-5e1c-4001-b280-b354a05fc4e8",
   "metadata": {},
   "source": [
    "**How to read Affine matrix (a, b, c, d, e, f)?**\n",
    "- a = width of a pixel\n",
    "- b = row rotation (typically zero)\n",
    "- c = x-coordinate of the upper-left corner of the upper-left pixel\n",
    "- d = column rotation (typically zero)\n",
    "- e = height of a pixel (typically negative)\n",
    "- f = y-coordinate of the of the upper-left corner of the upper-left pixel."
   ]
  },
  {
   "cell_type": "markdown",
   "id": "e467630d-861e-47c0-829d-db40fa7242f7",
   "metadata": {},
   "source": [
    "**Note that when you read a raster dataset with `rasterio` the interpretation of the 3 axes is `(bands, rows, columns)`.**"
   ]
  },
  {
   "cell_type": "code",
   "execution_count": null,
   "id": "8143f4b7-f96e-4b70-93a4-790c654e954d",
   "metadata": {},
   "outputs": [],
   "source": [
    "ndvi_winter_array = ndvi_winter.read(1)\n",
    "ndvi_winter_array[ndvi_winter_array==ndvi_winter.nodata] = np.nan\n",
    "\n",
    "ndvi_summer_array = ndvi_summer.read(1)\n",
    "ndvi_summer_array[ndvi_summer_array==ndvi_summer.nodata] = np.nan"
   ]
  },
  {
   "cell_type": "code",
   "execution_count": null,
   "id": "dfaf7786-2184-41cc-b589-3e0b4d32c8c4",
   "metadata": {},
   "outputs": [],
   "source": [
    "fig, axs = plt.subplots(1,2, figsize=(10,4), tight_layout=True)\n",
    "\n",
    "plot0 = axs[0].imshow(ndvi_winter_array, cmap=\"YlGn\", clim=(0,1))\n",
    "fig.colorbar(plot0, ax=axs[0])\n",
    "axs[0].set_title(\"NDVI winter\")\n",
    "\n",
    "plot1 = axs[1].imshow(ndvi_summer_array, cmap=\"YlGn\",  clim=(0,1))\n",
    "fig.colorbar(plot1, ax=axs[1])\n",
    "axs[1].set_title(\"NDVI summer\")\n",
    "\n",
    "plt.show()"
   ]
  },
  {
   "cell_type": "markdown",
   "id": "2cefc979-631b-40b1-a19a-6464b62d5ff8",
   "metadata": {},
   "source": [
    "#### Summarize raster data\n",
    "Below we present some methods to summarize and describe array data with common statistics."
   ]
  },
  {
   "cell_type": "code",
   "execution_count": null,
   "id": "0b29aee2-d4d8-4810-99bb-378002dd0fa8",
   "metadata": {},
   "outputs": [],
   "source": [
    "fig, ax = plt.subplots(figsize=(5,3), tight_layout=True)\n",
    "ax.hist(ras_b.flatten(), facecolor=\"grey\", alpha=0.75)\n",
    "plt.show()"
   ]
  },
  {
   "cell_type": "code",
   "execution_count": null,
   "id": "7af1f4b4-3a9f-494e-abe7-0bb6ef7c81b4",
   "metadata": {},
   "outputs": [],
   "source": [
    "fig, ax = plt.subplots(figsize=(5,3), tight_layout=True)\n",
    "ax.hist(ndvi_summer_array.flatten(), facecolor=\"seagreen\", alpha=0.75)\n",
    "ax.hist(ndvi_winter_array.flatten(), facecolor=\"lightskyblue\", alpha=0.75)\n",
    "plt.show()"
   ]
  },
  {
   "cell_type": "code",
   "execution_count": null,
   "id": "c6a78e36-7fed-43d6-bbb9-ed5bbf883bf2",
   "metadata": {},
   "outputs": [],
   "source": [
    "print (f\"Mean: {np.mean(ras_a)}\")\n",
    "print (f\"Median: {np.median(ras_a)}\")\n",
    "print (f\"Maximum: {np.max(ras_a)}\")\n",
    "print (f\"Minimum: {np.min(ras_a)}\")\n",
    "print (f\"Standard Deviation: {np.std(ras_a)}\")\n",
    "print (f\"Percentile: {np.percentile(ras_a, 70)}\")"
   ]
  },
  {
   "cell_type": "code",
   "execution_count": null,
   "id": "1d10b087-918c-4ebc-ba20-5c5d5e1ec692",
   "metadata": {},
   "outputs": [],
   "source": [
    "print (f\"Mean: {np.mean(ndvi_summer_array)}\")"
   ]
  },
  {
   "cell_type": "code",
   "execution_count": null,
   "id": "7d54d8f0-2d41-4f1f-8557-3265279d03e2",
   "metadata": {},
   "outputs": [],
   "source": [
    "print (f\"Mean: {np.nanmean(ndvi_summer_array)}\")\n",
    "print (f\"Median: {np.nanmedian(ndvi_summer_array)}\")\n",
    "print (f\"Maximum: {np.nanmax(ndvi_summer_array)}\")\n",
    "print (f\"Minimum: {np.nanmin(ndvi_summer_array)}\")\n",
    "print (f\"Standard Deviation: {np.nanstd(ndvi_summer_array)}\")\n",
    "print (f\"Percentile: {np.nanpercentile(ndvi_summer_array, 70)}\")"
   ]
  },
  {
   "cell_type": "markdown",
   "id": "8c3ea191-a7ea-4763-b288-6a094b7eca53",
   "metadata": {},
   "source": [
    "### **Local operations**"
   ]
  },
  {
   "cell_type": "markdown",
   "id": "2d251cb4-fba4-4e9f-9741-ccc24c5d8e9f",
   "metadata": {},
   "source": [
    "#### Map algebra \n",
    "Below we demonstrate examples of how to use execute a variety of map algebra expressions on one or more arrays."
   ]
  },
  {
   "cell_type": "code",
   "execution_count": null,
   "id": "bad95244-b585-4fb4-9166-561012f216fc",
   "metadata": {},
   "outputs": [],
   "source": [
    "X2 =  ras_a*2\n",
    "Sq = ras_a**2\n",
    "ratio = ras_b/ras_a\n",
    "mean = (X2+Sq)/2\n",
    "ras_a_cap = np.where(ras_a > 25, 25, ras_a)"
   ]
  },
  {
   "cell_type": "code",
   "execution_count": null,
   "id": "393a1b09-be5d-42d6-a5a8-24b48473bd40",
   "metadata": {},
   "outputs": [],
   "source": [
    "fig, axs = plt.subplots(1,5, figsize=(16,3), tight_layout=True)\n",
    "\n",
    "plot0 = axs[0].imshow(X2, cmap=\"PiYG\")\n",
    "fig.colorbar(plot0, ax=axs[0])\n",
    "axs[0].set_title(\"ras_a doubled\")\n",
    "\n",
    "plot1 = axs[1].imshow(Sq, cmap=\"PiYG\")\n",
    "fig.colorbar(plot1, ax=axs[1])\n",
    "axs[1].set_title(\"ras_a squared\")\n",
    "\n",
    "plot2 = axs[2].imshow(ratio, cmap=\"PiYG\")\n",
    "fig.colorbar(plot2, ax=axs[2])\n",
    "axs[2].set_title(\"Ratio of ras_b to ras_a\")\n",
    "\n",
    "plot3 = axs[3].imshow(mean, cmap=\"PiYG\")\n",
    "fig.colorbar(plot3, ax=axs[3])\n",
    "axs[3].set_title(\"Mean of doubled/squared\")\n",
    "\n",
    "plot4 = axs[4].imshow(ras_a_cap, cmap=\"PiYG\")\n",
    "fig.colorbar(plot4, ax=axs[4])\n",
    "axs[4].set_title(\"ras_a capped at 25\")\n",
    "\n",
    "plt.show()"
   ]
  },
  {
   "cell_type": "code",
   "execution_count": null,
   "id": "4b0c1f16-ef4d-4656-9352-1a5d10830eed",
   "metadata": {},
   "outputs": [],
   "source": [
    "ndvi_diff_array = ndvi_summer_array - ndvi_winter_array"
   ]
  },
  {
   "cell_type": "code",
   "execution_count": null,
   "id": "c629f4fc-b5ff-474e-bcb2-fc1fab2824f5",
   "metadata": {},
   "outputs": [],
   "source": [
    "fig, axs = plt.subplots(1,3, figsize=(15,4), tight_layout=True)\n",
    "\n",
    "plot0 = axs[0].imshow(ndvi_winter_array, cmap=\"YlGn\", clim=(0,1))\n",
    "fig.colorbar(plot0, ax=axs[0])\n",
    "axs[0].set_title(\"NDVI winter\")\n",
    "\n",
    "plot1 = axs[1].imshow(ndvi_summer_array, cmap=\"YlGn\",  clim=(0,1))\n",
    "fig.colorbar(plot1, ax=axs[1])\n",
    "axs[1].set_title(\"NDVI summer\")\n",
    "\n",
    "plot2 = axs[2].imshow(ndvi_diff_array, cmap=\"coolwarm\")\n",
    "fig.colorbar(plot2, ax=axs[2])\n",
    "axs[2].set_title(\"NDVI difference\")\n",
    "\n",
    "plt.show()"
   ]
  },
  {
   "cell_type": "markdown",
   "id": "7d935463-06af-4853-acad-61340672cf21",
   "metadata": {},
   "source": [
    "#### Reclassify array data\n",
    "Reclassification allows to reassign one or more values in a raster dataset to new output values."
   ]
  },
  {
   "cell_type": "code",
   "execution_count": null,
   "id": "178a8666-949d-4f1b-bb05-da5b2d8f9e28",
   "metadata": {},
   "outputs": [],
   "source": [
    "reclassified = ras_a.copy()\n",
    "\n",
    "reclassified[(reclassified > 0) & (reclassified <= 12)] = 1\n",
    "reclassified[(reclassified > 12) & (reclassified <= 24)] = 2\n",
    "reclassified[(reclassified > 24) & (reclassified <= 37)] = 3"
   ]
  },
  {
   "cell_type": "code",
   "execution_count": null,
   "id": "45b843b2-9d3c-41e0-a609-b2b5115f0a8d",
   "metadata": {},
   "outputs": [],
   "source": [
    "fig, axs = plt.subplots(1,2, figsize=(10,4), tight_layout=True)\n",
    "\n",
    "plot0 = axs[0].imshow(ras_a, cmap=\"YlGnBu\")\n",
    "fig.colorbar(plot0, ax=axs[0])\n",
    "axs[0].set_title(\"ras_a\")\n",
    "\n",
    "plot1 = axs[1].imshow(reclassified, cmap=\"YlGnBu\")\n",
    "fig.colorbar(plot1, ax=axs[1])\n",
    "axs[1].set_title(\"ras_a reclassified\")\n",
    "\n",
    "plt.show()"
   ]
  },
  {
   "cell_type": "markdown",
   "id": "90c4d8bc-6a49-4db8-b460-b0dfda865f6f",
   "metadata": {},
   "source": [
    "### **Focal operations**"
   ]
  },
  {
   "cell_type": "markdown",
   "id": "351d7f2f-f634-4cab-8d9e-0488567ed23a",
   "metadata": {},
   "source": [
    "#### Resample to a coarser resolution"
   ]
  },
  {
   "cell_type": "code",
   "execution_count": null,
   "id": "0e126dbe-700a-4908-b938-d8d0194d8186",
   "metadata": {},
   "outputs": [],
   "source": [
    "scale_factor = 1/2\n",
    "dataset = rasterio.open(\"./data-module-3/ras_a.tif\")\n",
    "aggregated = dataset.read(1, \n",
    "                          out_shape=(int(dataset.height * scale_factor), int(dataset.width * scale_factor)),\n",
    "                          resampling=Resampling.nearest)\n",
    "transform = dataset.transform * dataset.transform.scale(\n",
    "    (dataset.width / aggregated.shape[0]),\n",
    "    (dataset.height / aggregated.shape[1]))"
   ]
  },
  {
   "cell_type": "code",
   "execution_count": null,
   "id": "de362282-196c-4640-b95c-151c72444da4",
   "metadata": {},
   "outputs": [],
   "source": [
    "fig, axs = plt.subplots(1,2, figsize=(10,4), tight_layout=True)\n",
    "\n",
    "plot0 = axs[0].imshow(ras_a, cmap=\"coolwarm\")\n",
    "fig.colorbar(plot0, ax=axs[0])\n",
    "axs[0].set_title(\"ras_a original\")\n",
    "\n",
    "plot1 = axs[1].imshow(aggregated, cmap=\"coolwarm\")\n",
    "fig.colorbar(plot1, ax=axs[1])\n",
    "axs[1].set_title(\"ras_a aggregated\")\n",
    "\n",
    "plt.show()"
   ]
  },
  {
   "cell_type": "code",
   "execution_count": null,
   "id": "94ea974b-eb89-405e-9e9b-375eaa4544a7",
   "metadata": {},
   "outputs": [],
   "source": [
    "scale_factor = 1/10\n",
    "dataset = rasterio.open(\"./data-module-3/ndvi_summer.tif\")\n",
    "aggregated = dataset.read(1, \n",
    "                          out_shape=(int(dataset.height * scale_factor), int(dataset.width * scale_factor)),\n",
    "                          resampling=Resampling.nearest)\n",
    "aggregated[aggregated==dataset.nodata] = np.nan"
   ]
  },
  {
   "cell_type": "code",
   "execution_count": null,
   "id": "240dbe6f-738d-46c1-832f-e1b2bc36e4b7",
   "metadata": {},
   "outputs": [],
   "source": [
    "fig, axs = plt.subplots(1,2, figsize=(10,4), tight_layout=True)\n",
    "\n",
    "plot0 = axs[0].imshow(ndvi_summer_array,  cmap=\"YlGn\", clim=(0,1))\n",
    "fig.colorbar(plot0, ax=axs[0])\n",
    "axs[0].set_title(\"NDVI original\")\n",
    "\n",
    "plot1 = axs[1].imshow(aggregated,  cmap=\"YlGn\", clim=(0,1))\n",
    "fig.colorbar(plot1, ax=axs[1])\n",
    "axs[1].set_title(\"NDVI aggregated\")\n",
    "\n",
    "plt.show()"
   ]
  },
  {
   "cell_type": "markdown",
   "id": "19a681f1-0e1b-491c-a58e-9b6662b35f4c",
   "metadata": {},
   "source": [
    "#### Resample to a higher resolution"
   ]
  },
  {
   "cell_type": "code",
   "execution_count": null,
   "id": "fc69a333-a111-4c9e-89f2-e221e60fae5d",
   "metadata": {},
   "outputs": [],
   "source": [
    "scale_factor = 2\n",
    "dataset = rasterio.open(\"./data-module-3/ras_a.tif\")\n",
    "\n",
    "resampled_nearest = dataset.read(1, \n",
    "                          out_shape=(int(dataset.height * scale_factor), int(dataset.width * scale_factor)),\n",
    "                          resampling=Resampling.nearest)\n",
    "resampled_bilnear = dataset.read(1, \n",
    "                          out_shape=(int(dataset.height * scale_factor), int(dataset.width * scale_factor)),\n",
    "                          resampling=Resampling.bilinear)"
   ]
  },
  {
   "cell_type": "code",
   "execution_count": null,
   "id": "66c0767c-0382-4e47-bc37-2b88269a784c",
   "metadata": {},
   "outputs": [],
   "source": [
    "fig, axs = plt.subplots(1,3, figsize=(15,4), tight_layout=True)\n",
    "\n",
    "plot0 = axs[0].imshow(ras_a, cmap=\"coolwarm\")\n",
    "fig.colorbar(plot0, ax=axs[0])\n",
    "axs[0].set_title(\"ras_a original\")\n",
    "\n",
    "plot0 = axs[1].imshow(resampled_nearest, cmap=\"coolwarm\")\n",
    "fig.colorbar(plot0, ax=axs[1])\n",
    "axs[1].set_title(\"ras_a: nearest resamling\")\n",
    "\n",
    "plot1 = axs[2].imshow(resampled_bilnear, cmap=\"coolwarm\")\n",
    "fig.colorbar(plot1, ax=axs[2])\n",
    "axs[2].set_title(\"ras_a: bilinear resampling\")\n",
    "\n",
    "plt.show()"
   ]
  },
  {
   "cell_type": "markdown",
   "id": "09167bc3-7c8d-4fc0-8ef2-628d8cca76b2",
   "metadata": {},
   "source": [
    "#### Apply focal statistics\n",
    "Focal statistics calculates a statistic for input cells with a set of overlapping windows or neighborhoods defined as `kernel`. Please note that we use `xarray` and `xarray-spatial` packages to perfrom these operations."
   ]
  },
  {
   "cell_type": "code",
   "execution_count": null,
   "id": "c58e0bec-1006-438d-a85e-06e0cd1094f8",
   "metadata": {},
   "outputs": [],
   "source": [
    "ras_b_xr =  xr.DataArray(ras_b, dims=[\"y\", \"x\"], name=\"raster b\")\n",
    "ras_b_xr"
   ]
  },
  {
   "cell_type": "code",
   "execution_count": null,
   "id": "d6c23200-4528-4c60-b98e-096c54803a51",
   "metadata": {},
   "outputs": [],
   "source": [
    "ds = xr.Dataset(data_vars=dict(a = ([\"y\", \"x\"], ras_a), b = ([\"y\", \"x\"], ras_b)), \n",
    "                attrs=dict(description=\"Data we generated\"))\n",
    "ds"
   ]
  },
  {
   "cell_type": "code",
   "execution_count": null,
   "id": "ec4c6108-fc4c-4fbc-ab3b-95c5bd514593",
   "metadata": {},
   "outputs": [],
   "source": [
    "kernel1 = circle_kernel(1,1,1)\n",
    "focal1 = xrspatial.focal.focal_stats(ras_b_xr, kernel1, stats_funcs=[\"min\"])[0]\n",
    "\n",
    "kernel2 = np.ones([3,3])\n",
    "focal2 = xrspatial.focal.focal_stats(ras_b_xr, kernel2, stats_funcs=[\"min\"])[0]"
   ]
  },
  {
   "cell_type": "code",
   "execution_count": null,
   "id": "ee47e2f3-ec44-4d0c-a72d-1f6b355d540c",
   "metadata": {},
   "outputs": [],
   "source": [
    "fig, axs = plt.subplots(1,3, figsize=(15,4), tight_layout=True)\n",
    "\n",
    "plot0 = axs[0].imshow(ras_b, cmap=\"coolwarm\")\n",
    "fig.colorbar(plot0, ax=axs[0])\n",
    "axs[0].set_title(\"ras_b original\")\n",
    "\n",
    "plot1 = axs[1].imshow(focal1, cmap=\"coolwarm\") \n",
    "fig.colorbar(plot1, ax=axs[1])\n",
    "axs[1].set_title(\"min focal wtih circle kernel\")\n",
    "\n",
    "plot2 = axs[2].imshow(focal2, cmap=\"coolwarm\") \n",
    "fig.colorbar(plot2, ax=axs[2])\n",
    "axs[2].set_title(\"min focal wtih custom kernel\")\n",
    "\n",
    "plt.show()"
   ]
  },
  {
   "cell_type": "code",
   "execution_count": null,
   "id": "2c29dc47-3364-453a-93f3-a25cf0272b72",
   "metadata": {},
   "outputs": [],
   "source": [
    "ndvi_summer_xr =  xr.DataArray(ndvi_summer_array, dims=[\"y\", \"x\"], name=\"ndvi_summer\")\n",
    "kernel = np.ones([15,15])\n",
    "ndvi_summer_xr_focal = xrspatial.focal.focal_stats(ndvi_summer_xr, kernel, stats_funcs=[\"mean\"])[0]\n",
    "difference  = ndvi_summer_xr - ndvi_summer_xr_focal"
   ]
  },
  {
   "cell_type": "code",
   "execution_count": null,
   "id": "15b4b561-ee6e-4c07-9977-f28a6b4d3536",
   "metadata": {},
   "outputs": [],
   "source": [
    "fig, axs = plt.subplots(1,3, figsize=(15,4), tight_layout=True)\n",
    "\n",
    "plot0 = axs[0].imshow(ndvi_summer_xr, cmap=\"YlGn\", clim=(0,1))\n",
    "fig.colorbar(plot0, ax=axs[0])\n",
    "axs[0].set_title(\"NDVI summer original\")\n",
    "\n",
    "plot1 = axs[1].imshow(ndvi_summer_xr_focal, cmap=\"YlGn\", clim=(0,1)) \n",
    "fig.colorbar(plot1, ax=axs[1])\n",
    "axs[1].set_title(\"NDVI summer Mean focal\")\n",
    "\n",
    "plot2 = axs[2].imshow(difference, cmap=\"magma\") \n",
    "fig.colorbar(plot2, ax=axs[2])\n",
    "axs[2].set_title(\"Difference between original and focal\")\n",
    "\n",
    "plt.show()"
   ]
  },
  {
   "cell_type": "markdown",
   "id": "ce312147-ea66-4cc6-bf55-41f7a6657282",
   "metadata": {},
   "source": [
    "### **Zonal operations**"
   ]
  },
  {
   "cell_type": "markdown",
   "id": "c713b110-7e58-44e0-b9cc-00b3e3f0a78d",
   "metadata": {},
   "source": [
    "#### Summarize array by another array\n",
    "Here we show how to calculate summary statistics for each zone defined by a `zones` dataset, based on `values` array."
   ]
  },
  {
   "cell_type": "code",
   "execution_count": null,
   "id": "30668672-551b-48f2-9cfe-78dcd7338260",
   "metadata": {},
   "outputs": [],
   "source": [
    "np.random.seed(0)\n",
    "categorical = np.random.randint(1,4, size=(6,6))"
   ]
  },
  {
   "cell_type": "code",
   "execution_count": null,
   "id": "fa120478-24ec-4617-ada3-1c300a873a8f",
   "metadata": {},
   "outputs": [],
   "source": [
    "fig, axs = plt.subplots(1,2, figsize=(10,4), tight_layout=True)\n",
    "\n",
    "plot0 = axs[0].imshow(ras_a, cmap=\"YlGnBu\")\n",
    "fig.colorbar(plot0, ax=axs[0])\n",
    "axs[0].set_title(\"values (ras_a)\")\n",
    "\n",
    "plot1 = axs[1].imshow(categorical, cmap=\"coolwarm\")\n",
    "fig.colorbar(plot1, ax=axs[1], ticks=[1,2,3])\n",
    "axs[1].set_title(\"zones\")\n",
    "\n",
    "plt.show()"
   ]
  },
  {
   "cell_type": "code",
   "execution_count": null,
   "id": "5b70bc60-9208-492c-83b8-374ff5299fb9",
   "metadata": {},
   "outputs": [],
   "source": [
    "values = xr.DataArray(ras_a)\n",
    "zones = xr.DataArray(categorical)\n",
    "stats_df = xrspatial.zonal.stats(zones=zones, values=values)\n",
    "stats_df"
   ]
  },
  {
   "cell_type": "markdown",
   "id": "67876e87-1b19-4e2e-848f-3d4b4e763629",
   "metadata": {},
   "source": [
    "#### Summarize array by vector geometries"
   ]
  },
  {
   "cell_type": "code",
   "execution_count": null,
   "id": "a5b8e3c7-3ea9-4199-81f7-9f6ccb61d507",
   "metadata": {},
   "outputs": [],
   "source": [
    "fields_gdf = gpd.read_file(\"./data-module-3/ag_fields.shp\")\n",
    "fields_gdf"
   ]
  },
  {
   "cell_type": "code",
   "execution_count": null,
   "id": "4b40fb69-2380-44b6-86e5-268d371e485d",
   "metadata": {},
   "outputs": [],
   "source": [
    "fig, axs = plt.subplots(1,2, figsize=(10,4), tight_layout=True)\n",
    "\n",
    "plot_extent = plotting_extent(ndvi_winter_array, ndvi_winter.transform)\n",
    "\n",
    "fields_gdf.plot(ax=axs[0], facecolor=\"none\", edgecolor=\"blue\", linewidth=2)\n",
    "\n",
    "plot0 = axs[0].imshow(ndvi_winter_array, cmap=\"YlGn\", clim=(0,1), extent=plot_extent)\n",
    "fig.colorbar(plot0, ax=axs[0])\n",
    "axs[0].set_title(\"NDVI winter\")\n",
    "\n",
    "fields_gdf.plot(ax=axs[1], facecolor=\"none\", edgecolor=\"blue\", linewidth=2)\n",
    "plot1 = axs[1].imshow(ndvi_summer_array, cmap=\"YlGn\",  clim=(0,1), extent=plot_extent)\n",
    "fig.colorbar(plot1, ax=axs[1])\n",
    "axs[1].set_title(\"NDVI summer\")\n",
    "\n",
    "plt.show()"
   ]
  },
  {
   "cell_type": "code",
   "execution_count": null,
   "id": "69a9bc29-32ac-46a2-a48e-dda07e7a9e97",
   "metadata": {},
   "outputs": [],
   "source": [
    "zs = zonal_stats(\"./data-module-3/ag_fields.shp\", \"./data-module-3/ndvi_summer.tif\", \n",
    "                 stats = [\"mean\", \"max\"])\n",
    "zs"
   ]
  },
  {
   "cell_type": "code",
   "execution_count": null,
   "id": "098865a2-a0e6-43fb-a718-0b18874d1685",
   "metadata": {},
   "outputs": [],
   "source": [
    "fields_gdf[\"ndvi_winter\"] = fields_gdf.apply(lambda x: zonal_stats(x.geometry, ndvi_winter_array, affine=ndvi_winter.transform, \n",
    "                                                         nodata=ndvi_winter.nodata, stats =[\"mean\"])[0][\"mean\"], axis=1)\n",
    "fields_gdf[\"ndvi_summer\"] = fields_gdf.apply(lambda x: zonal_stats(x.geometry, ndvi_summer_array, affine=ndvi_summer.transform, \n",
    "                                                         nodata=ndvi_summer.nodata, stats =[\"mean\"])[0][\"mean\"], axis=1)\n",
    "fields_gdf"
   ]
  },
  {
   "cell_type": "markdown",
   "id": "5da86a85-013d-4197-882b-7a22d3350a7d",
   "metadata": {},
   "source": [
    "### **Global operations**"
   ]
  },
  {
   "cell_type": "markdown",
   "id": "e3d37328-fe85-422a-a511-efadb8ffbdc2",
   "metadata": {},
   "source": [
    "#### Compute travel time to a destination"
   ]
  },
  {
   "cell_type": "code",
   "execution_count": null,
   "id": "cdc7816e-0e17-4c68-a784-dccc2e498184",
   "metadata": {},
   "outputs": [],
   "source": [
    "dataset =  rasterio.open(\"./data-module-3/friction_mali.tif\")\n",
    "friction = dataset.read(1)"
   ]
  },
  {
   "cell_type": "code",
   "execution_count": null,
   "id": "bc72088c-e723-4586-9b45-539fbb9acc23",
   "metadata": {},
   "outputs": [],
   "source": [
    "destinations = [[600, 200], [100,500]]\n",
    "mcp = graph.MCP_Geometric(friction, fully_connected=True, sampling=(dataset.res[0], dataset.res[1]))\n",
    "cumulative_costs, traceback = mcp.find_costs(destinations)"
   ]
  },
  {
   "cell_type": "code",
   "execution_count": null,
   "id": "5647e9e2-1a47-4dce-aa71-cfef272d515d",
   "metadata": {},
   "outputs": [],
   "source": [
    "fig, axs = plt.subplots(1,2, figsize=(10,4), tight_layout=True)\n",
    "\n",
    "axs[0].plot(destinations[0][1], destinations[0][0],'*', color=\"orange\", markersize=20)\n",
    "plot0 = axs[0].imshow(friction, cmap=\"coolwarm\")\n",
    "axs[0].plot(destinations[1][1], destinations[1][0],'*', color=\"orange\", markersize=20) \n",
    "fig.colorbar(plot0, ax=axs[0])\n",
    "axs[0].set_title(\"Friction (minutes/metre)\")\n",
    "\n",
    "plot1 = axs[1].imshow(cumulative_costs, cmap=\"cubehelix_r\")\n",
    "axs[1].plot(destinations[0][1], destinations[0][0],'*', color=\"orange\", markersize=20)\n",
    "axs[1].plot(destinations[1][1], destinations[1][0],'*', color=\"orange\", markersize=20) \n",
    "fig.colorbar(plot1, ax=axs[1])\n",
    "axs[1].set_title(\"Travel time (minutes)\")\n",
    "\n",
    "plt.show()"
   ]
  },
  {
   "cell_type": "markdown",
   "id": "999c7a71-d84c-4224-8359-e0d8bf58a56c",
   "metadata": {},
   "source": [
    "### **Exercises**\n",
    "Your expercises will draw on datasets from the Spatial Production Allocation Model (SPAM) and Minnesota Geospatial Commons, which have been downloaded, cleaned, transformed, and saved to the directory `./data-module-3/` for this workshop.\n",
    "#### Data\n",
    "- `spam_H_MAIZ_A_mn.tif` (crop harvested area), `spam_P_MAIZ_A_mn.tif` (crop production) - agricultural indicators at 10x10km grid-cell resolution from SPAM (Spatial Production Allocation Model) data center  https://www.mapspam.info/data/\n",
    "- `gw_provinces_extra.shp` - Groundwater Provinces of Minnesota derived from  https://gisdata.mn.gov/dataset/geos-groundwater-provinces-mn"
   ]
  },
  {
   "cell_type": "markdown",
   "id": "451ed3a4-3c0f-4234-9a4a-b8a52eab68d2",
   "metadata": {},
   "source": [
    "**Question 1. Open raster files `spam_H_MAIZ_A_mn.tif` and `spam_P_MAIZ_A_mn.tif` and check their properties: Coordinate Reference System, extent, resolution, NoData, and transform.** "
   ]
  },
  {
   "cell_type": "code",
   "execution_count": null,
   "id": "d211740c-85b8-4acd-b0b1-54a006ae4895",
   "metadata": {},
   "outputs": [],
   "source": []
  },
  {
   "cell_type": "markdown",
   "id": "b420fe6a-bd28-4ae9-9b1b-4c416d6e6ca2",
   "metadata": {},
   "source": [
    "**Question 2. Load arrays from the datasets opened in the previous question, reset NoData values, and plot them.**"
   ]
  },
  {
   "cell_type": "code",
   "execution_count": null,
   "id": "2864e55c-6532-42de-9693-7a7d4bbc7920",
   "metadata": {},
   "outputs": [],
   "source": []
  },
  {
   "cell_type": "markdown",
   "id": "6414c8aa-1e74-4a60-94b9-7bf9860b7e6d",
   "metadata": {},
   "source": [
    "**Question 3. Calculate a ratio of Production raster to Harvested Area to create an array Yield. Find statistics: maximum Yield and its standard deviation.**"
   ]
  },
  {
   "cell_type": "code",
   "execution_count": null,
   "id": "c764efcf-1acd-432b-a145-e926e40a0455",
   "metadata": {},
   "outputs": [],
   "source": []
  },
  {
   "cell_type": "markdown",
   "id": "3aae4827-3cf5-485d-bf50-4bdbde30dc72",
   "metadata": {},
   "source": [
    "**Question 4. Reclassify Yield array by using 3 categories (make your own breaks). Plot both for comparison.**"
   ]
  },
  {
   "cell_type": "code",
   "execution_count": null,
   "id": "bf8067a7-791a-4778-9143-118584901064",
   "metadata": {},
   "outputs": [],
   "source": []
  },
  {
   "cell_type": "markdown",
   "id": "183e29aa-d04f-49e7-a45f-f057271ec253",
   "metadata": {},
   "source": [
    "**Question 5: Resample Production raster to a coarser resolution. Plot both for comparison.**"
   ]
  },
  {
   "cell_type": "code",
   "execution_count": null,
   "id": "d666c789-8dd7-4511-85a0-9f5fa20c4186",
   "metadata": {},
   "outputs": [],
   "source": []
  },
  {
   "cell_type": "markdown",
   "id": "f89d3a05-f52e-4abc-8a51-243b345395f7",
   "metadata": {},
   "source": [
    "**Question 6. Use focal statistics function on Yield array to create an array which shows the `mean` Yield within 3x3 cell neighborhood. Then create a raster map that displays the difference between each grid cell's Yield and `mean` Yield of its neighborhood. Plot the original raster, raster with focal statistics applied, and their difference raster as 3 subplots on the same figure.**"
   ]
  },
  {
   "cell_type": "code",
   "execution_count": null,
   "id": "ee6111cb-b0ef-4df1-a572-44d33b523dae",
   "metadata": {},
   "outputs": [],
   "source": []
  },
  {
   "cell_type": "markdown",
   "id": "17679520-f4be-428e-8789-ee414ae00d10",
   "metadata": {},
   "source": [
    "**Question 7. Open `gw_provinces_extra.shp`. Change the CRS of this `GeoDataFrame` to the CRS of the Production raster dataset.** "
   ]
  },
  {
   "cell_type": "code",
   "execution_count": null,
   "id": "dd816a67-2efd-44a4-a44a-72a0412e73af",
   "metadata": {},
   "outputs": [],
   "source": []
  },
  {
   "cell_type": "markdown",
   "id": "8af1336c-b26e-4472-b6e8-7ebba27a0c11",
   "metadata": {},
   "source": [
    "**Question 8. Calculate zonal statistics of Production raster by groundwater provinces as `sum`. Append results to the groundwater provinces `GeoDataFrame`.**"
   ]
  },
  {
   "cell_type": "code",
   "execution_count": null,
   "id": "77f82cf4-9222-4e4c-b8fc-8e9f45549217",
   "metadata": {},
   "outputs": [],
   "source": []
  }
 ],
 "metadata": {
  "kernelspec": {
   "display_name": "Python 3 (ipykernel)",
   "language": "python",
   "name": "python3"
  },
  "language_info": {
   "codemirror_mode": {
    "name": "ipython",
    "version": 3
   },
   "file_extension": ".py",
   "mimetype": "text/x-python",
   "name": "python",
   "nbconvert_exporter": "python",
   "pygments_lexer": "ipython3",
   "version": "3.11.5"
  }
 },
 "nbformat": 4,
 "nbformat_minor": 5
}
